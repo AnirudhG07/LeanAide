{
 "cells": [
  {
   "cell_type": "code",
   "execution_count": 1,
   "id": "ea907571-d402-45f3-9a99-72475ea6978a",
   "metadata": {},
   "outputs": [],
   "source": [
    "import queries"
   ]
  },
  {
   "cell_type": "code",
   "execution_count": 2,
   "id": "793183cd-7043-4c32-a38f-3b4282f4bd6e",
   "metadata": {},
   "outputs": [],
   "source": [
    "examples = [{\"role\": \"user\", \"content\": \"/-- The cardinality of the antidiagonal of `n` is `n+1`. -/\"},\n",
    "        {\"role\": \"assistant\", \"content\": \"theorem (n : ℕ) : ⇑multiset.card (multiset.nat.antidiagonal n) = n + 1 :=\"},\n",
    "        {\"role\": \"user\", \"content\": \"/-- The golden ratio is irrational. -/\"},\n",
    "        {\"role\": \"assistant\", \"content\": \"theorem  : irrational golden_ratio :=\"},\n",
    "        {\"role\": \"user\", \"content\": \"/-- There are no perfect squares strictly between m² and (m+1)² -/\"},\n",
    "        {\"role\": \"user\", \"content\": \"/-- The only numbers with empty prime factorization are `0` and `1` -/\"},        \n",
    "        {\"role\": \"assistant\", \"content\": \"theorem (n : ℕ) : n.factorization = 0 ↔ n = 0 ∨ n = 1 :=\"},\n",
    "        {\"role\": \"user\", \"content\": \"/--  If `m` and `n` are natural numbers, then the natural number `m^n` is even if and only if `m` is even and `n` is positive. -/\"},\n",
    "        {\"role\": \"assistant\", \"content\": \"theorem {m n : ℕ} : even (m ^ n) ↔ even m ∧ n ≠ 0 :=\"},\n",
    "        {\"role\": \"user\", \"content\": \"/-- Odd Bernoulli numbers (greater than 1) are zero. -/\"},\n",
    "        {\"role\": \"assistant\", \"content\": \"theorem {n : ℕ} (h_odd : odd n) (hlt : 1 < n) : bernoulli' n = 0 :=\"},\n",
    "        {\"role\": \"user\", \"content\": \"/-- A natural number is odd iff it has residue `1` or `3` mod `4` -/\"},\n",
    "        {\"role\": \"assistant\", \"content\": \"theorem {n : ℕ} : n % 2 = 1 ↔ n % 4 = 1 ∨ n % 4 = 3 :=\"},\n",
    "        {\"role\": \"user\", \"content\": \"/--  Euclid's theorem on the **infinitude of primes**. Here given in the form: for every `n`, there exists a prime number `p ≥ n`. -/\"},\n",
    "        {\"role\": \"assistant\", \"content\": \"theorem (n : ℕ) : ∃ (p : ℕ), n ≤ p ∧ nat.prime p :=\"}]"
   ]
  },
  {
   "cell_type": "code",
   "execution_count": 3,
   "id": "1b582d09-d0ce-4b88-b71e-4fb2dbba6a3f",
   "metadata": {},
   "outputs": [],
   "source": [
    "result = queries.azure_completions(\"/-- There are infinitely many odd numbers. -/\", sys_prompt=queries.lean_sys_prompt, examples = examples)"
   ]
  },
  {
   "cell_type": "code",
   "execution_count": 4,
   "id": "90dd7ee0-0277-44bb-ba72-25a2e117dd70",
   "metadata": {},
   "outputs": [
    {
     "data": {
      "text/plain": [
       "['theorem : ∃ (x : ℕ), ∀ (n : ℕ), ∃ (m : ℕ), n ≤ m ∧ m % 2 = 1 :=',\n",
       " 'theorem : ∀ (n : ℕ), ∃ (m : ℕ), n ≤ m ∧ m % 2 = 1 :=',\n",
       " 'theorem : ∃ (n : ℕ), ∀ (m : ℕ), ∃ (k : ℕ), n ≤ m ∧ m = 2*k + 1 :=',\n",
       " 'theorem: ∀ (n : ℕ), ∃ (m : ℕ), n ≤ m ∧ odd m :=',\n",
       " 'theorem : ∃ a : ℕ, ∀ b : ℕ, ∃ c : ℕ, a ≤ b * 2 + 1 :=']"
      ]
     },
     "execution_count": 4,
     "metadata": {},
     "output_type": "execute_result"
    }
   ],
   "source": [
    "result"
   ]
  },
  {
   "cell_type": "markdown",
   "id": "39ae7530-0e62-4144-b408-ad6ff03dcbc9",
   "metadata": {},
   "source": [
    "The results are correct. They are in Lean 3 as the examples were in Lean 3."
   ]
  }
 ],
 "metadata": {
  "kernelspec": {
   "display_name": "Python 3 (ipykernel)",
   "language": "python",
   "name": "python3"
  },
  "language_info": {
   "codemirror_mode": {
    "name": "ipython",
    "version": 3
   },
   "file_extension": ".py",
   "mimetype": "text/x-python",
   "name": "python",
   "nbconvert_exporter": "python",
   "pygments_lexer": "ipython3",
   "version": "3.10.12"
  }
 },
 "nbformat": 4,
 "nbformat_minor": 5
}
