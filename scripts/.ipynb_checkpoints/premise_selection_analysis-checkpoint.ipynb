{
 "cells": [
  {
   "cell_type": "markdown",
   "metadata": {},
   "source": [
    "# Analysis of Premise Selection Data\n",
    "\n",
    "This notebook requires the data to be saved locally in the main directory. To download the data, run the following commands from the root directory of this project:\n",
    "\n",
    "```bash\n",
    "wget math.iisc.ac.in/~gadgil/data/codet5_small_test.zip\n",
    "unzip codet5_small_test.zip\n",
    "```"
   ]
  },
  {
   "cell_type": "markdown",
   "metadata": {},
   "source": [
    "We would like to analyse the data to answer the following questions:\n",
    "\n",
    "- What is the distribution of the number of premises in the training data?\n",
    "- What is the distribution of the predicted number of premises in the test data?\n",
    "- What is the distribution of coverage and efficiency in the test data? It would be nice to see histograms and scatter plots.\n",
    "- What is the nature of the missed identifiers? In particular, are they rare (i.e., not present in many theorems)?"
   ]
  },
  {
   "cell_type": "markdown",
   "metadata": {},
   "source": [
    "## Imports"
   ]
  },
  {
   "cell_type": "code",
   "execution_count": null,
   "metadata": {},
   "outputs": [],
   "source": [
    "import numpy as np\n",
    "import plotly.graph_objects as go\n",
    "import jsonlines"
   ]
  },
  {
   "cell_type": "markdown",
   "metadata": {},
   "source": [
    "## Loading the data"
   ]
  },
  {
   "cell_type": "code",
   "execution_count": null,
   "metadata": {},
   "outputs": [],
   "source": [
    "data = list(jsonlines.open(\"./../rawdata/premises/identifiers/test_data.jsonl\", 'r'))"
   ]
  },
  {
   "cell_type": "markdown",
   "metadata": {},
   "source": [
    "## Analysis"
   ]
  },
  {
   "cell_type": "markdown",
   "metadata": {},
   "source": [
    "### Number of premises"
   ]
  },
  {
   "cell_type": "code",
   "execution_count": null,
   "metadata": {},
   "outputs": [],
   "source": [
    "#The number of \"identifiers\" associated to each data point.\n",
    "premises_count = map(lambda d: len(d['identifiers']), data)"
   ]
  },
  {
   "cell_type": "code",
   "execution_count": null,
   "metadata": {
    "scrolled": true
   },
   "outputs": [],
   "source": [
    "fig = go.Figure(data=[go.Histogram(x=premises_count)])\n",
    "\n",
    "fig.update_layout(\n",
    "    title_text='Histogram',\n",
    "    xaxis=dict(title='Value'),\n",
    "    yaxis=dict(title='Count'),\n",
    ")\n",
    "\n",
    "fig.show()"
   ]
  }
 ],
 "metadata": {
  "kernelspec": {
   "display_name": "Python 3 (ipykernel)",
   "language": "python",
   "name": "python3"
  },
  "language_info": {
   "codemirror_mode": {
    "name": "ipython",
    "version": 3
   },
   "file_extension": ".py",
   "mimetype": "text/x-python",
   "name": "python",
   "nbconvert_exporter": "python",
   "pygments_lexer": "ipython3",
   "version": "3.11.3"
  }
 },
 "nbformat": 4,
 "nbformat_minor": 2
}
