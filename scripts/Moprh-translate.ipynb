{
 "cells": [
  {
   "cell_type": "code",
   "execution_count": 1,
   "id": "29867354-a1db-483a-b908-aa210eddde4e",
   "metadata": {},
   "outputs": [],
   "source": [
    "from openai import OpenAI"
   ]
  },
  {
   "cell_type": "code",
   "execution_count": 2,
   "id": "8c57867d-25d3-482a-ac51-0ab185459ae7",
   "metadata": {},
   "outputs": [],
   "source": [
    "import os\n",
    "openai_api_key = \"EMPTY\"\n",
    "openai_api_base = f\"http://{os.environ['MATHWORKSTATION']}:8000/v1\"\n"
   ]
  },
  {
   "cell_type": "code",
   "execution_count": 3,
   "id": "aa637770-2153-44da-a387-7fe9e098ba77",
   "metadata": {},
   "outputs": [],
   "source": [
    "client = OpenAI(\n",
    "    api_key=openai_api_key,\n",
    "    base_url=openai_api_base,\n",
    ")"
   ]
  },
  {
   "cell_type": "code",
   "execution_count": 4,
   "id": "edcaea32-dea0-4e71-8869-9e49429faa93",
   "metadata": {},
   "outputs": [
    {
     "data": {
      "text/plain": [
       "'10.134.13.103'"
      ]
     },
     "execution_count": 4,
     "metadata": {},
     "output_type": "execute_result"
    }
   ],
   "source": [
    "os.environ['MATHWORKSTATION']"
   ]
  },
  {
   "cell_type": "code",
   "execution_count": 5,
   "id": "cecc9503-6e6c-4fa5-9fc1-2fa68bf701c1",
   "metadata": {},
   "outputs": [],
   "source": [
    "completion = client.chat.completions.create(\n",
    "  model=\"morph-labs/morph-prover-v0-7b\",\n",
    "  n= 5,\n",
    "  temperature=0.8,\n",
    "  stop = [':='],\n",
    "  messages=[\n",
    "        {\"role\": \"system\", \"content\": \"You are a coding assistant who translates from natural language to Lean Theorem Prover code following examples. Follow EXACTLY the examples given\"},\n",
    "        {\"role\": \"user\", \"content\": \"/-- The cardinality of the antidiagonal of `n` is `n+1`. -/\"},\n",
    "        {\"role\": \"assistant\", \"content\": \"theorem (n : ℕ) : ⇑multiset.card (multiset.nat.antidiagonal n) = n + 1 :=\"},\n",
    "        {\"role\": \"user\", \"content\": \"/-- The golden ratio is irrational. -/\"},\n",
    "        {\"role\": \"assistant\", \"content\": \"theorem  : irrational golden_ratio :=\"},\n",
    "        {\"role\": \"user\", \"content\": \"/-- The only numbers with empty prime factorization are `0` and `1` -/\"},        \n",
    "        {\"role\": \"assistant\", \"content\": \"theorem (n : ℕ) : n.factorization = 0 ↔ n = 0 ∨ n = 1 :=\"},\n",
    "        {\"role\": \"user\", \"content\": \"/--  If `m` and `n` are natural numbers, then the natural number `m^n` is even if and only if `m` is even and `n` is positive. -/\"},\n",
    "        {\"role\": \"assistant\", \"content\": \"theorem {m n : ℕ} : even (m ^ n) ↔ even m ∧ n ≠ 0 :=\"},\n",
    "        {\"role\": \"user\", \"content\": \"/-- Odd Bernoulli numbers (greater than 1) are zero. -/\"},\n",
    "        {\"role\": \"assistant\", \"content\": \"theorem {n : ℕ} (h_odd : odd n) (hlt : 1 < n) : bernoulli' n = 0 :=\"},\n",
    "        {\"role\": \"user\", \"content\": \"/-- A natural number is odd iff it has residue `1` or `3` mod `4` -/\"},\n",
    "        {\"role\": \"assistant\", \"content\": \"theorem {n : ℕ} : n % 2 = 1 ↔ n % 4 = 1 ∨ n % 4 = 3 :=\"},\n",
    "        {\"role\": \"user\", \"content\": \"/--  Euclid's theorem on the **infinitude of primes**. Here given in the form: for every `n`, there exists a prime number `p ≥ n`. -/\"},\n",
    "        {\"role\": \"assistant\", \"content\": \"theorem (n : ℕ) : ∃ (p : ℕ), n ≤ p ∧ nat.prime p :=\"},\n",
    "        {\"role\": \"user\", \"content\": \"/-- There are infinitely many odd numbers. -/\"}\n",
    "    ]\n",
    ")"
   ]
  },
  {
   "cell_type": "code",
   "execution_count": 6,
   "id": "0ec2b96b-68a1-4072-b0fa-50a3c93f84c0",
   "metadata": {},
   "outputs": [
    {
     "name": "stdout",
     "output_type": "stream",
     "text": [
      " theorem : ∃ (n : ℕ), odd n \n",
      " theorem : infinite { n : ℕ | odd n } \n",
      " theorem : ∃ n : ℕ, odd n \n",
      " theorem : ∀ (n : ℕ), ∃ (m : ℕ), n ≤ m ∧ odd m \n",
      " theorem : ∃ n, odd n \n"
     ]
    }
   ],
   "source": [
    "for choice in completion.choices:\n",
    "    print(choice.message.content)"
   ]
  },
  {
   "cell_type": "code",
   "execution_count": null,
   "id": "48fdfc87-b052-45a4-972a-71b802d41954",
   "metadata": {},
   "outputs": [],
   "source": []
  }
 ],
 "metadata": {
  "kernelspec": {
   "display_name": "Python 3 (ipykernel)",
   "language": "python",
   "name": "python3"
  },
  "language_info": {
   "codemirror_mode": {
    "name": "ipython",
    "version": 3
   },
   "file_extension": ".py",
   "mimetype": "text/x-python",
   "name": "python",
   "nbconvert_exporter": "python",
   "pygments_lexer": "ipython3",
   "version": "3.10.12"
  }
 },
 "nbformat": 4,
 "nbformat_minor": 5
}
