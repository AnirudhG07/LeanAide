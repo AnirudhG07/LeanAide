{
 "cells": [
  {
   "cell_type": "code",
   "execution_count": 2,
   "metadata": {},
   "outputs": [],
   "source": [
    "import base64\n",
    "import os\n",
    "from openai import OpenAI\n",
    "client = OpenAI(api_key=os.environ['OPENAI_API_KEY'])\n"
   ]
  },
  {
   "cell_type": "code",
   "execution_count": 3,
   "metadata": {},
   "outputs": [],
   "source": [
    "from pathlib import Path\n",
    "filepath=Path(\"../resources/NonCrossing.pdf\")\n",
    "data=filepath.read_bytes()\n"
   ]
  },
  {
   "cell_type": "code",
   "execution_count": 21,
   "metadata": {},
   "outputs": [],
   "source": [
    "import json\n",
    "schema = json.loads(Path(\"../resources/PaperGemini.json\").read_text())"
   ]
  },
  {
   "cell_type": "code",
   "execution_count": 5,
   "metadata": {},
   "outputs": [],
   "source": [
    "base64_string = base64.b64encode(data).decode(\"utf-8\")"
   ]
  },
  {
   "cell_type": "code",
   "execution_count": 38,
   "metadata": {},
   "outputs": [],
   "source": [
    "response = client.responses.create(\n",
    "    model=\"gpt-4.5-preview\",\n",
    "    input=[\n",
    "        {\n",
    "            \"role\": \"user\",\n",
    "            \"content\": [\n",
    "                {\n",
    "                    \"type\": \"input_file\",\n",
    "                    \"filename\": \"NonCrossing.pdf\",\n",
    "                    \"file_data\": f\"data:application/pdf;base64,{base64_string}\",\n",
    "                },\n",
    "                {\n",
    "                    \"type\": \"input_text\",\n",
    "                    \"text\": \"Write the ENTIRE TEXT of the attached mathematics paper as a structured JSON file in the given JSON schema format. Use LaTeX for formulas but otherwise use markdown. Ensure that ALL the mathematical content of the paper is captured in the JSON file, including EVERY theorem, lemma, etc. and ALL THE PROOFS.\",\n",
    "                },\n",
    "            ],\n",
    "        },\n",
    "        \n",
    "    ],\n",
    "    text={\n",
    "        \"format\": {\n",
    "            \"type\": \"json_schema\",\n",
    "            \"name\": \"mathematics_document\",\n",
    "            \"schema\": schema,\n",
    "            \"strict\": True\n",
    "        }\n",
    "    }\n",
    ")"
   ]
  },
  {
   "cell_type": "code",
   "execution_count": 39,
   "metadata": {},
   "outputs": [
    {
     "name": "stdout",
     "output_type": "stream",
     "text": [
      "{\n",
      "    \"document\": [\n",
      "        {\n",
      "            \"title\": \"RANDOM WORDS IN FREE GROUPS, NON-CROSSING MATCHINGS AND RNA SECONDARY STRUCTURES\"\n",
      "        },\n",
      "        {\n",
      "            \"abstract\": \"Consider a random word $X_n = (X_1, \\\\dots, X_n)$ in an alphabet consisting of 4 letters...\"\n",
      "        },\n",
      "        {\n",
      "            \"content\": [\n",
      "                {\n",
      "                    \"definition\": \"Let $G = (G, \\\\cdot, e,(\\\\cdot)^{-1})$ be a group...\"\n",
      "                ,\n",
      "                    \"name\": \"Definition5\",\n",
      "                    \"header\": \"Definition 5\"\n",
      "                }\n",
      "            ],\n",
      "            \"name\": \"sec1\",\n",
      "            \"header\": \"Section\"\n",
      "        }\n",
      "    ]\n",
      "}\n"
     ]
    }
   ],
   "source": [
    "print(response.output_text)"
   ]
  },
  {
   "cell_type": "code",
   "execution_count": 40,
   "metadata": {},
   "outputs": [],
   "source": [
    "with open(\"../results/NonCrossing-OpenAI.json\", \"w\") as f:\n",
    "    f.write(response.output_text) "
   ]
  },
  {
   "cell_type": "code",
   "execution_count": null,
   "metadata": {},
   "outputs": [],
   "source": []
  },
  {
   "cell_type": "code",
   "execution_count": null,
   "metadata": {},
   "outputs": [],
   "source": []
  }
 ],
 "metadata": {
  "kernelspec": {
   "display_name": "venv",
   "language": "python",
   "name": "python3"
  },
  "language_info": {
   "codemirror_mode": {
    "name": "ipython",
    "version": 3
   },
   "file_extension": ".py",
   "mimetype": "text/x-python",
   "name": "python",
   "nbconvert_exporter": "python",
   "pygments_lexer": "ipython3",
   "version": "3.12.3"
  }
 },
 "nbformat": 4,
 "nbformat_minor": 2
}
