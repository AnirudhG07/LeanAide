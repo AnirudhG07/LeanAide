{
 "cells": [
  {
   "cell_type": "code",
   "execution_count": 1,
   "id": "2f54f0fe-ebeb-4105-89af-a66066c45b0e",
   "metadata": {},
   "outputs": [],
   "source": [
    "import gpt_queries"
   ]
  },
  {
   "cell_type": "code",
   "execution_count": 2,
   "id": "ee27502e-3e83-4ac5-a8e6-bb8a835ace32",
   "metadata": {},
   "outputs": [],
   "source": [
    "examples = [{\"role\": \"user\", \"content\": \"/-- The cardinality of the antidiagonal of `n` is `n+1`. -/\"},\n",
    "        {\"role\": \"assistant\", \"content\": \"theorem (n : ℕ) : ⇑multiset.card (multiset.nat.antidiagonal n) = n + 1 :=\"},\n",
    "        {\"role\": \"user\", \"content\": \"/-- The golden ratio is irrational. -/\"},\n",
    "        {\"role\": \"assistant\", \"content\": \"theorem  : irrational golden_ratio :=\"},\n",
    "        {\"role\": \"user\", \"content\": \"/-- There are no perfect squares strictly between m² and (m+1)² -/\"},\n",
    "        {\"role\": \"user\", \"content\": \"/-- The only numbers with empty prime factorization are `0` and `1` -/\"},        \n",
    "        {\"role\": \"assistant\", \"content\": \"theorem (n : ℕ) : n.factorization = 0 ↔ n = 0 ∨ n = 1 :=\"},\n",
    "        {\"role\": \"user\", \"content\": \"/--  If `m` and `n` are natural numbers, then the natural number `m^n` is even if and only if `m` is even and `n` is positive. -/\"},\n",
    "        {\"role\": \"assistant\", \"content\": \"theorem {m n : ℕ} : even (m ^ n) ↔ even m ∧ n ≠ 0 :=\"},\n",
    "        {\"role\": \"user\", \"content\": \"/-- Odd Bernoulli numbers (greater than 1) are zero. -/\"},\n",
    "        {\"role\": \"assistant\", \"content\": \"theorem {n : ℕ} (h_odd : odd n) (hlt : 1 < n) : bernoulli' n = 0 :=\"},\n",
    "        {\"role\": \"user\", \"content\": \"/-- A natural number is odd iff it has residue `1` or `3` mod `4` -/\"},\n",
    "        {\"role\": \"assistant\", \"content\": \"theorem {n : ℕ} : n % 2 = 1 ↔ n % 4 = 1 ∨ n % 4 = 3 :=\"},\n",
    "        {\"role\": \"user\", \"content\": \"/--  Euclid's theorem on the **infinitude of primes**. Here given in the form: for every `n`, there exists a prime number `p ≥ n`. -/\"},\n",
    "        {\"role\": \"assistant\", \"content\": \"theorem (n : ℕ) : ∃ (p : ℕ), n ≤ p ∧ nat.prime p :=\"}]"
   ]
  },
  {
   "cell_type": "code",
   "execution_count": 3,
   "id": "6096135a-a71b-42c2-95c9-3f44eb8636ed",
   "metadata": {},
   "outputs": [],
   "source": [
    "result = gpt_queries.gpt4t_completions(\"/-- There are infinitely many odd numbers. -/\", sys_prompt=gpt_queries.lean_sys_prompt, examples = examples)"
   ]
  },
  {
   "cell_type": "code",
   "execution_count": 4,
   "id": "82c7fc66-627c-4c88-beec-40158eb60150",
   "metadata": {},
   "outputs": [
    {
     "data": {
      "text/plain": [
       "['theorem : ∃ (f : ℕ → ℕ), (∀ (m n : ℕ), m < n → f m < f n) ∧ ∀ (n : ℕ), odd (f n) :=',\n",
       " 'theorem : set.infinite {n : ℕ | odd n} :=',\n",
       " 'theorem : ∃ (f : ℕ → ℕ), (∀ (n : ℕ), odd (f n)) ∧ function.injective f :=',\n",
       " 'theorem : infinite {n : ℕ | odd n} :=',\n",
       " 'theorem : infinite {n : ℕ | odd n} :=']"
      ]
     },
     "execution_count": 4,
     "metadata": {},
     "output_type": "execute_result"
    }
   ],
   "source": [
    "result"
   ]
  },
  {
   "cell_type": "markdown",
   "id": "181dec9c-8b5b-4718-9853-af401a1baacd",
   "metadata": {},
   "source": [
    "Results correct, and a bit more sophisticated."
   ]
  },
  {
   "cell_type": "code",
   "execution_count": 5,
   "id": "8553b668-c61d-4362-a6db-dacf2ce8543a",
   "metadata": {},
   "outputs": [],
   "source": [
    "from gpt_queries import gpt4t_completions as q"
   ]
  },
  {
   "cell_type": "code",
   "execution_count": 6,
   "id": "2c7c3356-03c1-4a3b-ac39-39e7b9e6daf3",
   "metadata": {},
   "outputs": [
    {
     "name": "stdout",
     "output_type": "stream",
     "text": [
      "Certainly! To prove that there are infinitely many odd numbers in Lean 4, we can approach this by constructing an injective function from the natural numbers to the odd numbers. This demonstrates that the cardinality of the set of odd numbers is at least as large as the set of natural numbers. Since the natural numbers are infinite, so must be the set of odd numbers.\n",
      "\n",
      "Here's a formalization of the proof in Lean 4:\n",
      "\n",
      "```lean\n",
      "import Mathlib.Data.Nat.Basic\n",
      "\n",
      "theorem exists_infinite_odds : ∃ f : ℕ → ℕ, (function.injective f) ∧ ∀ n, odd (f n) :=\n",
      "begin\n",
      "  -- Define the function f: ℕ → ℕ by f(n) = 2 * n + 1\n",
      "  let f := λ n, 2 * n + 1,\n",
      "  -- We need to prove that f is injective and maps to odd numbers\n",
      "  use f,\n",
      "  -- Split the goal into two parts: injectivity and mapping to odd numbers\n",
      "  split,\n",
      "  {\n",
      "    -- Prove injectivity\n",
      "    intros m n h,\n",
      "    -- Since f is injective, if f(m) = f(n) then m = n\n",
      "    apply nat.eq_of_mul_eq_mul_left zero_lt_two,\n",
      "    -- We have f(m) = 2 * m + 1 and f(n) = 2 * n + 1\n",
      "    -- Now use the assumption h: f(m) = f(n)\n",
      "    calc\n",
      "      2 * m = 2 * m + 1 - 1 : by rw [nat.add_sub_cancel]\n",
      "        ... = 2 * n + 1 - 1 : by rw h\n",
      "        ... = 2 * n : by rw [nat.add_sub_cancel],\n",
      "  },\n",
      "  {\n",
      "    -- Prove that f(n) is odd for every natural number n\n",
      "    intro n,\n",
      "    -- Use the definition of an odd number\n",
      "    use n,\n",
      "    -- By the definition of f, f(n) = 2 * n + 1\n",
      "    -- This is the definition of an odd number\n",
      "    refl,\n",
      "  }\n",
      "end\n",
      "```\n",
      "\n",
      "This proof uses the fact that `2 * n + 1` is always an odd number and constructs an injective function `f` from the natural numbers to the odd numbers. Since `f` is injective and its image consists only of odd numbers, this proves there are infinitely many odd numbers.\n"
     ]
    }
   ],
   "source": [
    "inf_odd = q(\"Can you prove in Lean 4 that there are infinitely many odd numbers? Please ensure you use **Lean 4** syntax, not Lean 3\", n = 1)[0]\n",
    "print(inf_odd)"
   ]
  },
  {
   "cell_type": "code",
   "execution_count": 7,
   "id": "0b71123c-2c79-4408-b632-829ed83a9254",
   "metadata": {},
   "outputs": [
    {
     "data": {
      "text/plain": [
       "[\"The Lean 4 theorem named `remove_length_le` is stating a property about lists of natural numbers and the operation of removing an element from a list. Specifically, it claims that if you have a list `l` of natural numbers and you remove an element `a` from the list (where `a` is also a natural number), the length of the resulting list (`List.remove a l`) is less than or equal to the length of the original list `l`.\\n\\nThe signature of the theorem `theorem remove_length_le (a : ℕ) (l : List ℕ) : (List.remove a l).length ≤ l.length` declares the following:\\n- `a : ℕ` means that `a` is a natural number.\\n- `l : List ℕ` means that `l` is a list of natural numbers.\\n- `(List.remove a l).length ≤ l.length` is the statement being proved, asserting that the length of the list after removal is less than or equal to the length before removal.\\n\\nThe proof of this theorem is not provided in the given code, as it is indicated by `by sorry`, which is a placeholder for an unfinished proof. The theorem itself is a typical statement in the theories of lists and their properties, reflecting the intuitive fact that when you remove elements from a list, it doesn't get longer.\"]"
      ]
     },
     "execution_count": 7,
     "metadata": {},
     "output_type": "execute_result"
    }
   ],
   "source": [
    "q(\"Describe briefly the following Lean 4 theorem\\n```lean\\ntheorem remove_length_le (a : ℕ) (l : List ℕ) : (List.remove a l).length ≤ l.length := by sorry\", n= 1)"
   ]
  },
  {
   "cell_type": "code",
   "execution_count": 8,
   "id": "96783b7a-03f1-451a-b631-31777cc38360",
   "metadata": {},
   "outputs": [
    {
     "data": {
      "text/plain": [
       "['To add a documentation string to the Lean 4 code provided, you place it directly above the theorem declaration using the `/-!` and `-/` syntax. Here is how you could do it:\\n\\n```lean\\n/-!\\n  The `remove_length_le` theorem states that removing an element from a list does not increase\\n  the length of the list. Specifically, if `a` is a natural number and `l` is a list of natural numbers,\\n  then the length of the list resulting from removing `a` from `l` is less than or equal to the length\\n  of `l`.\\n-/\\ntheorem remove_length_le (a : ℕ) (l : List ℕ) : (List.remove a l).length ≤ l.length := by sorry\\n``` \\n\\nThis documentation string explains what the theorem is about in a clear and concise manner.']"
      ]
     },
     "execution_count": 8,
     "metadata": {},
     "output_type": "execute_result"
    }
   ],
   "source": [
    "q(\"Add a documentation string to the following Lean 4 code.\\n```lean\\ntheorem remove_length_le (a : ℕ) (l : List ℕ) : (List.remove a l).length ≤ l.length := by sorry\", n= 1)"
   ]
  },
  {
   "cell_type": "code",
   "execution_count": 9,
   "id": "9e4efc0e-9fba-4ee7-adf8-e032a2668fee",
   "metadata": {},
   "outputs": [
    {
     "data": {
      "text/plain": [
       "['The theorem `remove_length_le` states that for any natural number `a` and any list of natural numbers `l`, the length of the list obtained by removing the element `a` from `l` is less than or equal to the length of the original list `l`.']"
      ]
     },
     "execution_count": 9,
     "metadata": {},
     "output_type": "execute_result"
    }
   ],
   "source": [
    "q(\"Describe in a single sentence the following Lean 4 theorem\\n```lean\\ntheorem remove_length_le (a : ℕ) (l : List ℕ) : (List.remove a l).length ≤ l.length := by sorry\", n= 1)"
   ]
  },
  {
   "cell_type": "code",
   "execution_count": 10,
   "id": "2036e73a-08e1-4c3e-b7df-f493f4abb45e",
   "metadata": {},
   "outputs": [
    {
     "data": {
      "text/plain": [
       "['The Lean 4 code defines a function `minus` that takes two natural numbers `m` and `n` along with a proof `hyp` that `n` is less than or equal to `m`, and returns their difference using pattern matching to handle the base cases and recursive subtraction for the general case, while maintaining the proof of the inequality.',\n",
       " 'The Lean 4 code defines a function `minus` that takes two natural numbers `m` and `n` and a proof `hyp` that `n` is less than or equal to `m`, and it computes the difference `m - n` using recursion and pattern matching, ensuring that the operation is only performed when mathematically valid.',\n",
       " 'The Lean 4 code defines a function `minus` that takes two natural numbers `m` and `n` and a proof `hyp` that `n` is less than or equal to `m`, and it returns the result of subtracting `n` from `m` by recursive subtraction, ensuring that the operation is well-defined by using the provided proof.',\n",
       " 'The Lean 4 code defines a function `minus` that takes two natural numbers `m` and `n` along with a proof `hyp` that `n` is less than or equal to `m`, and returns the result of subtracting `n` from `m`, handling the base cases when `n` is zero and when `m` is zero, and recursively calling itself while peeling off one from both `m` and `n` for the inductive step.',\n",
       " 'The Lean 4 code defines a function `minus` that takes two natural numbers `m` and `n` along with a proof `hyp` that `n` is less than or equal to `m`, and returns the natural number result of subtracting `n` from `m`, using pattern matching to handle base cases and recursively call itself while maintaining the proof of the inequality.']"
      ]
     },
     "execution_count": 10,
     "metadata": {},
     "output_type": "execute_result"
    }
   ],
   "source": [
    "q(\"\"\"Describe in a single sentence the following Lean 4 code\n",
    "```lean\n",
    "def minus (m n : ℕ)(hyp : n ≤ m) : ℕ := \n",
    "  match m, n, hyp with\n",
    "  | m, 0, _ => m\n",
    "  | 0, _ +1, pf => nomatch pf\n",
    "  | m + 1, n + 1 , pf =>\n",
    "    minus m n (le_of_succ_le_succ pf)\n",
    "```\n",
    "\"\"\")"
   ]
  },
  {
   "cell_type": "code",
   "execution_count": 11,
   "id": "8753928e-0789-4a70-b03a-f218a85802b5",
   "metadata": {},
   "outputs": [
    {
     "data": {
      "text/plain": [
       "['The Lean 4 code defines an inductive type `DiaphantineSolution` for integers `a`, `b`, and `c`, with two constructors: `solution`, which represents a solution to the Diophantine equation `a * x + b * y = c`, and `unsolvable`, which represents the proof that no solutions exist for the given equation.',\n",
       " 'The Lean 4 code defines an inductive type `DiaphontineSolution` with two constructors: `solution`, representing that there exists a pair of integers `x` and `y` such that `a * x + b * y` equals `c`, and `unsolvable`, representing that it is impossible to find such integers `x` and `y` satisfying the equation for given integers `a`, `b`, and `c`.',\n",
       " 'The Lean 4 code defines an inductive type `DiaphontineSolution` for integers `a`, `b`, and `c`, with two constructors: `solution`, which represents a solution `(x, y)` to the linear Diophantine equation `a * x + b * y = c`, and `unsolvable`, which asserts that no solutions exist for the given `a`, `b`, and `c`.']"
      ]
     },
     "execution_count": 11,
     "metadata": {},
     "output_type": "execute_result"
    }
   ],
   "source": [
    "q(\"\"\"Describe in a single sentence the following Lean 4 code\n",
    "```lean\n",
    "inductive DiaphontineSolution (a b c : ℤ) where\n",
    "    | solution : (x y : ℤ) →  a * x + b * y = c → DiaphontineSolution a b c\n",
    "    | unsolvable : (∀ x y : ℤ, ¬ (a * x + b * y = c)) → DiaphontineSolution a b c\n",
    "```\n",
    "\"\"\", n = 3)"
   ]
  },
  {
   "cell_type": "code",
   "execution_count": 12,
   "id": "ec616204-c810-4408-8603-0fea15aca730",
   "metadata": {},
   "outputs": [
    {
     "data": {
      "text/plain": [
       "['The Lean 4 code defines an inductive type `DiaphantineSolution` for integers `a`, `b`, and `c`, with two constructors: `solution`, which takes two integers `x` and `y` and a proof that `a * x + b * y` equals `c`, and `unsolvable`, which takes a proof that no integers `x` and `y` can satisfy the equation `a * x + b * y = c`. The probable application of this code is to represent the possible outcomes of attempting to solve a Diophantine equation of the form `ax + by = c`, where `a`, `b`, and `c` are given integers, either by providing a solution or proving it is unsolvable.',\n",
       " \"The Lean 4 code defines an inductive type `DiaphantineSolution` for integers `a`, `b`, and `c`, with two constructors: `solution`, which represents a solution to the Diophantine equation `a * x + b * y = c` using integers `x` and `y`, and `unsolvable`, which represents the proposition that the equation has no solution in integers. The probable application of this code is to work with and reason about the solvability of linear Diophantine equations within Lean's formal verification environment.\",\n",
       " 'The Lean 4 code defines an inductive type `DiaphontineSolution` for integers `a`, `b`, and `c`, with two constructors: `solution`, which takes integers `x` and `y` and a proof that `a * x + b * y = c`, and `unsolvable`, which takes a proof that no integers `x` and `y` satisfy the equation `a * x + b * y = c`. The probable application of this code is to represent the existence or non-existence of integer solutions to a given Diophantine equation of the form `a * x + b * y = c`.']"
      ]
     },
     "execution_count": 12,
     "metadata": {},
     "output_type": "execute_result"
    }
   ],
   "source": [
    "q(\"\"\"Describe in a single sentence the following Lean 4 code, followed by a sentence describing the probable application.\n",
    "```lean\n",
    "inductive DiaphontineSolution (a b c : ℤ) where\n",
    "    | solution : (x y : ℤ) →  a * x + b * y = c → DiaphontineSolution a b c\n",
    "    | unsolvable : (∀ x y : ℤ, ¬ (a * x + b * y = c)) → DiaphontineSolution a b c\n",
    "```\n",
    "\"\"\", n = 3)"
   ]
  },
  {
   "cell_type": "code",
   "execution_count": null,
   "id": "d8b7c9f0-3b71-43fb-8224-b919e6263eb0",
   "metadata": {},
   "outputs": [],
   "source": []
  }
 ],
 "metadata": {
  "kernelspec": {
   "display_name": "Python 3 (ipykernel)",
   "language": "python",
   "name": "python3"
  },
  "language_info": {
   "codemirror_mode": {
    "name": "ipython",
    "version": 3
   },
   "file_extension": ".py",
   "mimetype": "text/x-python",
   "name": "python",
   "nbconvert_exporter": "python",
   "pygments_lexer": "ipython3",
   "version": "3.10.12"
  }
 },
 "nbformat": 4,
 "nbformat_minor": 5
}
