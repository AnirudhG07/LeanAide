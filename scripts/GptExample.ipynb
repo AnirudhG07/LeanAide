{
 "cells": [
  {
   "cell_type": "code",
   "execution_count": 1,
   "id": "2f54f0fe-ebeb-4105-89af-a66066c45b0e",
   "metadata": {},
   "outputs": [],
   "source": [
    "import gpt_queries"
   ]
  },
  {
   "cell_type": "code",
   "execution_count": 2,
   "id": "ee27502e-3e83-4ac5-a8e6-bb8a835ace32",
   "metadata": {},
   "outputs": [],
   "source": [
    "examples = [{\"role\": \"user\", \"content\": \"/-- The cardinality of the antidiagonal of `n` is `n+1`. -/\"},\n",
    "        {\"role\": \"assistant\", \"content\": \"theorem (n : ℕ) : ⇑multiset.card (multiset.nat.antidiagonal n) = n + 1 :=\"},\n",
    "        {\"role\": \"user\", \"content\": \"/-- The golden ratio is irrational. -/\"},\n",
    "        {\"role\": \"assistant\", \"content\": \"theorem  : irrational golden_ratio :=\"},\n",
    "        {\"role\": \"user\", \"content\": \"/-- There are no perfect squares strictly between m² and (m+1)² -/\"},\n",
    "        {\"role\": \"user\", \"content\": \"/-- The only numbers with empty prime factorization are `0` and `1` -/\"},        \n",
    "        {\"role\": \"assistant\", \"content\": \"theorem (n : ℕ) : n.factorization = 0 ↔ n = 0 ∨ n = 1 :=\"},\n",
    "        {\"role\": \"user\", \"content\": \"/--  If `m` and `n` are natural numbers, then the natural number `m^n` is even if and only if `m` is even and `n` is positive. -/\"},\n",
    "        {\"role\": \"assistant\", \"content\": \"theorem {m n : ℕ} : even (m ^ n) ↔ even m ∧ n ≠ 0 :=\"},\n",
    "        {\"role\": \"user\", \"content\": \"/-- Odd Bernoulli numbers (greater than 1) are zero. -/\"},\n",
    "        {\"role\": \"assistant\", \"content\": \"theorem {n : ℕ} (h_odd : odd n) (hlt : 1 < n) : bernoulli' n = 0 :=\"},\n",
    "        {\"role\": \"user\", \"content\": \"/-- A natural number is odd iff it has residue `1` or `3` mod `4` -/\"},\n",
    "        {\"role\": \"assistant\", \"content\": \"theorem {n : ℕ} : n % 2 = 1 ↔ n % 4 = 1 ∨ n % 4 = 3 :=\"},\n",
    "        {\"role\": \"user\", \"content\": \"/--  Euclid's theorem on the **infinitude of primes**. Here given in the form: for every `n`, there exists a prime number `p ≥ n`. -/\"},\n",
    "        {\"role\": \"assistant\", \"content\": \"theorem (n : ℕ) : ∃ (p : ℕ), n ≤ p ∧ nat.prime p :=\"}]"
   ]
  },
  {
   "cell_type": "code",
   "execution_count": 3,
   "id": "6096135a-a71b-42c2-95c9-3f44eb8636ed",
   "metadata": {},
   "outputs": [],
   "source": [
    "result = gpt_queries.gpt4t_completions(\"/-- There are infinitely many odd numbers. -/\", sys_prompt=gpt_queries.lean_sys_prompt, examples = examples)"
   ]
  },
  {
   "cell_type": "code",
   "execution_count": 4,
   "id": "82c7fc66-627c-4c88-beec-40158eb60150",
   "metadata": {},
   "outputs": [
    {
     "data": {
      "text/plain": [
       "['theorem : ∃ (f : ℕ → ℕ), (∀ (m n : ℕ), m < n → f m < f n) ∧ ∀ (n : ℕ), odd (f n) :=',\n",
       " 'theorem : set.infinite {n : ℕ | odd n} :=',\n",
       " 'theorem : ∃ (f : ℕ → ℕ), (∀ (n : ℕ), odd (f n)) ∧ function.injective f :=',\n",
       " 'theorem : infinite {n : ℕ | odd n} :=',\n",
       " 'theorem : infinite {n : ℕ | odd n} :=']"
      ]
     },
     "execution_count": 4,
     "metadata": {},
     "output_type": "execute_result"
    }
   ],
   "source": [
    "result"
   ]
  },
  {
   "cell_type": "markdown",
   "id": "181dec9c-8b5b-4718-9853-af401a1baacd",
   "metadata": {},
   "source": [
    "Results correct, and a bit more sophisticated."
   ]
  }
 ],
 "metadata": {
  "kernelspec": {
   "display_name": "Python 3 (ipykernel)",
   "language": "python",
   "name": "python3"
  },
  "language_info": {
   "codemirror_mode": {
    "name": "ipython",
    "version": 3
   },
   "file_extension": ".py",
   "mimetype": "text/x-python",
   "name": "python",
   "nbconvert_exporter": "python",
   "pygments_lexer": "ipython3",
   "version": "3.10.12"
  }
 },
 "nbformat": 4,
 "nbformat_minor": 5
}
