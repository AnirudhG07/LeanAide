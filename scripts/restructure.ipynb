{
 "cells": [
  {
   "cell_type": "code",
   "execution_count": 1,
   "metadata": {},
   "outputs": [],
   "source": [
    "from proof_examples import *\n",
    "from queries import *"
   ]
  },
  {
   "cell_type": "code",
   "execution_count": 7,
   "metadata": {},
   "outputs": [],
   "source": [
    "f = open(os.path.join(rawdata, 'algebra_berkeley.json'), 'r')"
   ]
  },
  {
   "cell_type": "code",
   "execution_count": 8,
   "metadata": {},
   "outputs": [],
   "source": [
    "alg = json.load(f)"
   ]
  },
  {
   "cell_type": "code",
   "execution_count": 9,
   "metadata": {},
   "outputs": [
    {
     "data": {
      "text/plain": [
       "[{'type': 'theorem',\n",
       "  'name': 'Does the set G={a in R | a>0,a!=1} form a group with the operation a*b=a^log b?',\n",
       "  'hypothesis': [{'type': 'fix',\n",
       "    'variable': 'G',\n",
       "    'kind': 'set of all a in R such that a > 0 and a != 1'},\n",
       "   {'type': 'define',\n",
       "    'term': 'operation *',\n",
       "    'statement': 'For any a, b in G, a * b = a^log b'}],\n",
       "  'conclusion': 'G forms a group under the operation *',\n",
       "  'status': 'proved',\n",
       "  'proof': {'type': 'proof',\n",
       "   'steps': [{'type': 'observe',\n",
       "     'statement': 'If a, b in G, then a > 0 and b != 1, so a^log b in G. Therefore, the operation * is well defined.'},\n",
       "    {'type': 'assert',\n",
       "     'claim': 'The constant e is the identity',\n",
       "     'deduced_from': ['a * e = a^log e = a^1 = a', 'e * a = e^log a = a']},\n",
       "    {'type': 'assert',\n",
       "     'claim': '* is associative',\n",
       "     'deduced_from': ['(a * b) * c = c^log(e^log a log b) = e^log a log b log c = a^log(e^log b log c) = a * (b * c)']},\n",
       "    {'type': 'assert',\n",
       "     'claim': 'Every element is invertible',\n",
       "     'deduced_from': ['Since a != 1, e^(1/log a) exists and is an element of G. A calculation shows that a * e^(1/log a) = e^(1/log a) * a = e']},\n",
       "    {'type': 'assert',\n",
       "     'claim': 'The map log:G->R\\\\\\\\{0} is a bijection that transforms the operation * into multiplication',\n",
       "     'deduced_from': ['log(a * b) = (log a)(log b)'],\n",
       "     'missing': [{'type': 'problem',\n",
       "       'statement': 'Prove that log is a bijection from G to R\\\\\\\\{0}',\n",
       "       'solved': False}]},\n",
       "    {'type': 'observe',\n",
       "     'statement': 'Since R\\\\\\\\{0} forms a group with respect to multiplication, G is a group with respect to *'}]}},\n",
       " {'type': 'theorem',\n",
       "  'name': 'Does the set G={a∈ℝ|a>0,a≠1} form a group with the operation ∗ defined by a*b=a^log(b)?',\n",
       "  'hypothesis': [{'type': 'define', 'variable': 'G', 'value': '{a∈ℝ|a>0,a≠1}'},\n",
       "   {'type': 'define', 'variable': '*', 'value': 'a*b=a^log(b)'}],\n",
       "  'conclusion': 'G is a group with respect to *',\n",
       "  'status': 'proved',\n",
       "  'proof': {'type': 'proof',\n",
       "   'steps': [{'type': 'observe',\n",
       "     'statement': 'If a,b∈G, then a>0 and b≠1, so a^log(b)∈G. Therefore, the operation * is well defined.'},\n",
       "    {'type': 'assert',\n",
       "     'claim': 'The constant e is the identity for *',\n",
       "     'deduced_from': ['define: *', 'e*a=e^log(a)=a', 'a*e=a^log(e)=a^1=a']},\n",
       "    {'type': 'assert',\n",
       "     'claim': '* is associative',\n",
       "     'deduced_from': ['define: *',\n",
       "      '(a*b)*c=c^log(e^log(a)log(b))=e^log(a)log(b)log(c)=a^log(e^log(b) log(c))=a*(b*c)']},\n",
       "    {'type': 'assert',\n",
       "     'claim': 'Each element of G has an inverse with respect to *',\n",
       "     'deduced_from': ['define: *',\n",
       "      'e^(1/log(a)) exists and is an element of G',\n",
       "      'a*e^(1/log(a))=e^(1/log(a))*a=e']},\n",
       "    {'type': 'assert',\n",
       "     'claim': 'The map log:G→ℝ\\\\\\\\{0} is a bijection that transforms the operation * into multiplication',\n",
       "     'deduced_from': ['define: *', 'log(a*b)=(log a)(log b)'],\n",
       "     'missing': [{'type': 'problem',\n",
       "       'statement': 'Prove that log:G→ℝ\\\\\\\\{0} is a bijection',\n",
       "       'solved': False},\n",
       "      {'type': 'problem',\n",
       "       'statement': 'Prove that log(a*b)=(log a)(log b) for all a,b in G',\n",
       "       'solved': False}]},\n",
       "    {'type': 'remark',\n",
       "     'statement': 'Since ℝ\\\\\\\\{0} forms a group with respect to multiplication, G is a group with respect to *.'}]}},\n",
       " {'type': 'theorem',\n",
       "  'name': 'Group structure on G',\n",
       "  'hypothesis': [{'type': 'fix',\n",
       "    'variable': 'G',\n",
       "    'kind': 'set of real numbers a such that a > 0 and a != 1'}],\n",
       "  'conclusion': 'G forms a group with the operation a*b=a^log(b)',\n",
       "  'status': 'proved',\n",
       "  'proof': {'type': 'proof',\n",
       "   'steps': [{'type': 'observe',\n",
       "     'statement': 'For all a, b in G, a^log(b) is in G. Therefore, the operation a*b is well defined.'},\n",
       "    {'type': 'let', 'variable': 'e', 'value': 'Mathematical constant e'},\n",
       "    {'type': 'observe',\n",
       "     'statement': 'For all a in G, a*e=a and e*a=a. Therefore, e is the identity of the operation.'},\n",
       "    {'type': 'observe',\n",
       "     'statement': 'For all a, b, c in G, (a*b)*c equals a*(b*c). Therefore, the operation is associative.'},\n",
       "    {'type': 'observe',\n",
       "     'statement': 'For all a in G, there exists e^(1/log(a)) in G such that a*e^(1/log(a))=e and e^(1/log(a))*a=e. Therefore, the operation is invertible.'},\n",
       "    {'type': 'assert',\n",
       "     'claim': 'The map log:G->R\\\\\\\\{0} transforms the operation * into multiplication',\n",
       "     'deduced_from': ['For all a, b in G, log(a*b)=(log a)(log b)'],\n",
       "     'proof-method': 'elementary properties of logarithms'},\n",
       "    {'type': 'observe',\n",
       "     'statement': 'R\\\\\\\\{0} forms a group with respect to multiplication. Therefore, G forms a group with respect to *.'}]}}]"
      ]
     },
     "execution_count": 9,
     "metadata": {},
     "output_type": "execute_result"
    }
   ],
   "source": [
    "alg[0]['structured']"
   ]
  },
  {
   "cell_type": "code",
   "execution_count": 21,
   "metadata": {},
   "outputs": [],
   "source": [
    "def fix_kind_observe(json):\n",
    "    return f\"\"\"The following is a theorem and proof in a special JSON format. You goal is to correct this JSON to avoid certain errors. First, we recall the description of some types of statements in the JSON format.\n",
    "\n",
    "    * **Observe**: A mathematical statement whose proof is a simple calculation or deduction hence can be omitted.\n",
    "      * Additional fields: \n",
    "        * **Statement**: the mathematical observation.\n",
    "    * **Assert**: A mathematical statement whose proof is a straightforward consequence of given results following some method.\n",
    "      * Additional fields: \n",
    "        * **Claim**: the mathematical claim being asserted, NOT INCLUDING proofs, justifications or results used. The claim should be purely a logical statement which is the *consequence* obtained.\n",
    "        * **Deduced_from**: a JSON list of results used to prove the claim, each result either the name of a theorem or a short statement previously proved.\n",
    "        * **Proof-method** (optional): the method of proof for the claim; this should be a single phrase or a fairly simple sentence; if a longer justification is needed break the step into smaller steps.\n",
    "    * **Fix**: For a statement introducing a new variable.\n",
    "      * Additional fields: \n",
    "        * **Variable**: the variable being defined.\n",
    "        * **Kind**: the type and (optionally) properties of the variable.\n",
    "    * **Assume**: A mathematical assumption being made.\n",
    "      * Additional fields: \n",
    "        * **Statement**: the mathematical assumption.\n",
    "    * **Theorem**: The statement of a mathematical theorem, lemma or claim.\n",
    "      * Additional fields: \n",
    "        * **Hypothesis**: a JSON list of data and assumptions, i.e., **fix**, **let**, **have**, **assume**, or **choose** statements.\n",
    "        * **Conclusion**: the mathematical theorem as a consequence of the assumptions.\n",
    "        * **Status**: one of \"stated\", \"recalled\", \"proved earlier\", \"proved\", \"proved later\".\n",
    "        * Depending on the status, at most one of:\n",
    "          * **Proof**: the proof, if the status is \"proved\".\n",
    "          * **Ref**: reference to earlier proof, if the status is \"proved earlier\" or \"proved later\".\n",
    "          * **Cite**: reference to literature or external sources, if the status is \"recalled\"; for well known results, this is omitted.      \n",
    "\n",
    "   ---\n",
    "   Consider the following proof:\n",
    "    {json}\n",
    "   ---\n",
    "\n",
    "   Rewrite the JSON to ensure the following:\n",
    "   \n",
    "   * A **kind** field should be the type of a variable, such as \"real number\", \"element of G\", \"function from A to B\" etc. Replace more complicated kinds with simpler ones followed by **assume** statements.\n",
    "   * An **observe** statement should be a single sentence and not include a justification or a statement from which it is deduced. If an **observe** statement includes a statement from which it is deduced, separate that as an **observe** or **assert** statement followed by the original statement as the **claim** of an **assert** statement.\n",
    "\n",
    "   Give the COMPLETE JSON proof with the corrections. \n",
    "\"\"\""
   ]
  },
  {
   "cell_type": "code",
   "execution_count": 22,
   "metadata": {},
   "outputs": [],
   "source": [
    "query = fix_kind_observe(alg[0]['structured'])"
   ]
  },
  {
   "cell_type": "code",
   "execution_count": 23,
   "metadata": {},
   "outputs": [
    {
     "data": {
      "text/plain": [
       "'The following is a theorem and proof in a special JSON format. You goal is to correct this JSON to avoid certain errors. First, we recall the description of some types of statements in the JSON format.\\n\\n    * **Observe**: A mathematical statement whose proof is a simple calculation or deduction hence can be omitted.\\n      * Additional fields: \\n        * **Statement**: the mathematical observation.\\n    * **Assert**: A mathematical statement whose proof is a straightforward consequence of given results following some method.\\n      * Additional fields: \\n        * **Claim**: the mathematical claim being asserted, NOT INCLUDING proofs, justifications or results used. The claim should be purely a logical statement which is the *consequence* obtained.\\n        * **Deduced_from**: a JSON list of results used to prove the claim, each result either the name of a theorem or a short statement previously proved.\\n        * **Proof-method** (optional): the method of proof for the claim; this should be a single phrase or a fairly simple sentence; if a longer justification is needed break the step into smaller steps.\\n    * **Fix**: For a statement introducing a new variable.\\n      * Additional fields: \\n        * **Variable**: the variable being defined.\\n        * **Kind**: the type and (optionally) properties of the variable.\\n    * **Assume**: A mathematical assumption being made.\\n      * Additional fields: \\n        * **Statement**: the mathematical assumption.\\n    * **Theorem**: The statement of a mathematical theorem, lemma or claim.\\n      * Additional fields: \\n        * **Hypothesis**: a JSON list of data and assumptions, i.e., **fix**, **let**, **have**, **assume**, or **choose** statements.\\n        * **Conclusion**: the mathematical theorem as a consequence of the assumptions.\\n        * **Status**: one of \"stated\", \"recalled\", \"proved earlier\", \"proved\", \"proved later\".\\n        * Depending on the status, at most one of:\\n          * **Proof**: the proof, if the status is \"proved\".\\n          * **Ref**: reference to earlier proof, if the status is \"proved earlier\" or \"proved later\".\\n          * **Cite**: reference to literature or external sources, if the status is \"recalled\"; for well known results, this is omitted.      \\n\\n   ---\\n   Consider the following proof:\\n    [{\\'type\\': \\'theorem\\', \\'name\\': \\'Does the set G={a in R | a>0,a!=1} form a group with the operation a*b=a^log b?\\', \\'hypothesis\\': [{\\'type\\': \\'fix\\', \\'variable\\': \\'G\\', \\'kind\\': \\'set of all a in R such that a > 0 and a != 1\\'}, {\\'type\\': \\'define\\', \\'term\\': \\'operation *\\', \\'statement\\': \\'For any a, b in G, a * b = a^log b\\'}], \\'conclusion\\': \\'G forms a group under the operation *\\', \\'status\\': \\'proved\\', \\'proof\\': {\\'type\\': \\'proof\\', \\'steps\\': [{\\'type\\': \\'observe\\', \\'statement\\': \\'If a, b in G, then a > 0 and b != 1, so a^log b in G. Therefore, the operation * is well defined.\\'}, {\\'type\\': \\'assert\\', \\'claim\\': \\'The constant e is the identity\\', \\'deduced_from\\': [\\'a * e = a^log e = a^1 = a\\', \\'e * a = e^log a = a\\']}, {\\'type\\': \\'assert\\', \\'claim\\': \\'* is associative\\', \\'deduced_from\\': [\\'(a * b) * c = c^log(e^log a log b) = e^log a log b log c = a^log(e^log b log c) = a * (b * c)\\']}, {\\'type\\': \\'assert\\', \\'claim\\': \\'Every element is invertible\\', \\'deduced_from\\': [\\'Since a != 1, e^(1/log a) exists and is an element of G. A calculation shows that a * e^(1/log a) = e^(1/log a) * a = e\\']}, {\\'type\\': \\'assert\\', \\'claim\\': \\'The map log:G->R\\\\\\\\\\\\\\\\{0} is a bijection that transforms the operation * into multiplication\\', \\'deduced_from\\': [\\'log(a * b) = (log a)(log b)\\'], \\'missing\\': [{\\'type\\': \\'problem\\', \\'statement\\': \\'Prove that log is a bijection from G to R\\\\\\\\\\\\\\\\{0}\\', \\'solved\\': False}]}, {\\'type\\': \\'observe\\', \\'statement\\': \\'Since R\\\\\\\\\\\\\\\\{0} forms a group with respect to multiplication, G is a group with respect to *\\'}]}}, {\\'type\\': \\'theorem\\', \\'name\\': \\'Does the set G={a∈ℝ|a>0,a≠1} form a group with the operation ∗ defined by a*b=a^log(b)?\\', \\'hypothesis\\': [{\\'type\\': \\'define\\', \\'variable\\': \\'G\\', \\'value\\': \\'{a∈ℝ|a>0,a≠1}\\'}, {\\'type\\': \\'define\\', \\'variable\\': \\'*\\', \\'value\\': \\'a*b=a^log(b)\\'}], \\'conclusion\\': \\'G is a group with respect to *\\', \\'status\\': \\'proved\\', \\'proof\\': {\\'type\\': \\'proof\\', \\'steps\\': [{\\'type\\': \\'observe\\', \\'statement\\': \\'If a,b∈G, then a>0 and b≠1, so a^log(b)∈G. Therefore, the operation * is well defined.\\'}, {\\'type\\': \\'assert\\', \\'claim\\': \\'The constant e is the identity for *\\', \\'deduced_from\\': [\\'define: *\\', \\'e*a=e^log(a)=a\\', \\'a*e=a^log(e)=a^1=a\\']}, {\\'type\\': \\'assert\\', \\'claim\\': \\'* is associative\\', \\'deduced_from\\': [\\'define: *\\', \\'(a*b)*c=c^log(e^log(a)log(b))=e^log(a)log(b)log(c)=a^log(e^log(b) log(c))=a*(b*c)\\']}, {\\'type\\': \\'assert\\', \\'claim\\': \\'Each element of G has an inverse with respect to *\\', \\'deduced_from\\': [\\'define: *\\', \\'e^(1/log(a)) exists and is an element of G\\', \\'a*e^(1/log(a))=e^(1/log(a))*a=e\\']}, {\\'type\\': \\'assert\\', \\'claim\\': \\'The map log:G→ℝ\\\\\\\\\\\\\\\\{0} is a bijection that transforms the operation * into multiplication\\', \\'deduced_from\\': [\\'define: *\\', \\'log(a*b)=(log a)(log b)\\'], \\'missing\\': [{\\'type\\': \\'problem\\', \\'statement\\': \\'Prove that log:G→ℝ\\\\\\\\\\\\\\\\{0} is a bijection\\', \\'solved\\': False}, {\\'type\\': \\'problem\\', \\'statement\\': \\'Prove that log(a*b)=(log a)(log b) for all a,b in G\\', \\'solved\\': False}]}, {\\'type\\': \\'remark\\', \\'statement\\': \\'Since ℝ\\\\\\\\\\\\\\\\{0} forms a group with respect to multiplication, G is a group with respect to *.\\'}]}}, {\\'type\\': \\'theorem\\', \\'name\\': \\'Group structure on G\\', \\'hypothesis\\': [{\\'type\\': \\'fix\\', \\'variable\\': \\'G\\', \\'kind\\': \\'set of real numbers a such that a > 0 and a != 1\\'}], \\'conclusion\\': \\'G forms a group with the operation a*b=a^log(b)\\', \\'status\\': \\'proved\\', \\'proof\\': {\\'type\\': \\'proof\\', \\'steps\\': [{\\'type\\': \\'observe\\', \\'statement\\': \\'For all a, b in G, a^log(b) is in G. Therefore, the operation a*b is well defined.\\'}, {\\'type\\': \\'let\\', \\'variable\\': \\'e\\', \\'value\\': \\'Mathematical constant e\\'}, {\\'type\\': \\'observe\\', \\'statement\\': \\'For all a in G, a*e=a and e*a=a. Therefore, e is the identity of the operation.\\'}, {\\'type\\': \\'observe\\', \\'statement\\': \\'For all a, b, c in G, (a*b)*c equals a*(b*c). Therefore, the operation is associative.\\'}, {\\'type\\': \\'observe\\', \\'statement\\': \\'For all a in G, there exists e^(1/log(a)) in G such that a*e^(1/log(a))=e and e^(1/log(a))*a=e. Therefore, the operation is invertible.\\'}, {\\'type\\': \\'assert\\', \\'claim\\': \\'The map log:G->R\\\\\\\\\\\\\\\\{0} transforms the operation * into multiplication\\', \\'deduced_from\\': [\\'For all a, b in G, log(a*b)=(log a)(log b)\\'], \\'proof-method\\': \\'elementary properties of logarithms\\'}, {\\'type\\': \\'observe\\', \\'statement\\': \\'R\\\\\\\\\\\\\\\\{0} forms a group with respect to multiplication. Therefore, G forms a group with respect to *.\\'}]}}]\\n   ---\\n\\n   Rewrite the JSON to ensure the following:\\n   \\n   * A **kind** field should be the type of a variable, such as \"real number\", \"element of G\", \"function from A to B\" etc. Replace more complicated kinds with simpler ones followed by **assume** statements.\\n   * An **observe** statement should be a single sentence and not include a justification or a statement from which it is deduced. If an **observe** statement includes a statement from which it is deduced, separate that as an **observe** or **assert** statement followed by the original statement as the **claim** of an **assert** statement.\\n\\n   Give the COMPLETE JSON proof with the corrections. \\n'"
      ]
     },
     "execution_count": 23,
     "metadata": {},
     "output_type": "execute_result"
    }
   ],
   "source": [
    "query"
   ]
  },
  {
   "cell_type": "code",
   "execution_count": 24,
   "metadata": {},
   "outputs": [
    {
     "data": {
      "text/plain": [
       "'[{\"type\": \"theorem\", \"name\": \"Does the set G={a in R | a>0,a!=1} form a group with the operation a*b=a^log b?\", \"hypothesis\": [{\"type\": \"fix\", \"variable\": \"G\", \"kind\": \"set\"}, {\"type\": \"assume\", \"statement\": \"G contains all a in R such that a > 0 and a != 1\"}, {\"type\": \"fix\", \"variable\": \"*\", \"kind\": \"operation\"}, {\"type\": \"assume\", \"statement\": \"For any a, b in G, a * b = a^log b\"}], \"conclusion\": \"G forms a group under the operation *\", \"status\": \"proved\", \"proof\": {\"type\": \"proof\", \"steps\": [{\"type\": \"observe\", \"statement\": \"For any a, b in G, a > 0 and b != 1.\"}, {\"type\": \"assert\", \"claim\": \"For any a, b in G, a^log b in G.\", \"deduced_from\": [\"If a, b in G, then a > 0 and b != 1.\"]}, {\"type\": \"assert\", \"claim\": \"The constant e is the identity\", \"deduced_from\": [\"a * e = a^log e = a^1 = a\", \"e * a = e^log a = a\"]}, {\"type\": \"assert\", \"claim\": \"* is associative\", \"deduced_from\": [\"(a * b) * c = c^log(e^log a log b) = e^log a log b log c = a^log(e^log b log c) = a * (b * c)\"]}, {\"type\": \"assert\", \"claim\": \"Every element is invertible\", \"deduced_from\": [\"Since a != 1, e^(1/log a) exists and is an element of G. A calculation shows that a * e^(1/log a) = e^(1/log a) * a = e\"]}, {\"type\": \"assert\", \"claim\": \"The map log:G->R\\\\\\\\\\\\\\\\{0} is a bijection that transforms the operation * into multiplication\", \"deduced_from\": [\"log(a * b) = (log a)(log b)\"], \"missing\": [{\"type\": \"problem\", \"statement\": \"Prove that log is a bijection from G to R\\\\\\\\\\\\\\\\{0}\", \"solved\": False}]}, {\"type\": \"observe\", \"statement\": \"R\\\\\\\\\\\\\\\\{0} forms a group with respect to multiplication.\"}, {\"type\": \"assert\", \"claim\": \"G is a group with respect to *\", \"deduced_from\": [\"R\\\\\\\\\\\\\\\\{0} forms a group with respect to multiplication.\"]}]}}]'"
      ]
     },
     "execution_count": 24,
     "metadata": {},
     "output_type": "execute_result"
    }
   ],
   "source": [
    "restructured = default_client.math(query, n =1)[0]\n",
    "restructured"
   ]
  },
  {
   "cell_type": "code",
   "execution_count": null,
   "metadata": {},
   "outputs": [],
   "source": []
  }
 ],
 "metadata": {
  "kernelspec": {
   "display_name": "Python 3",
   "language": "python",
   "name": "python3"
  },
  "language_info": {
   "codemirror_mode": {
    "name": "ipython",
    "version": 3
   },
   "file_extension": ".py",
   "mimetype": "text/x-python",
   "name": "python",
   "nbconvert_exporter": "python",
   "pygments_lexer": "ipython3",
   "version": "3.10.12"
  }
 },
 "nbformat": 4,
 "nbformat_minor": 2
}
