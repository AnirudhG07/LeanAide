{
 "cells": [
  {
   "cell_type": "code",
   "execution_count": 1,
   "metadata": {},
   "outputs": [],
   "source": [
    "import yaml"
   ]
  },
  {
   "cell_type": "code",
   "execution_count": null,
   "metadata": {},
   "outputs": [],
   "source": [
    "with open(\"deps_copy_rep.yaml\",'r') as stream:\n",
    "    data_loaded = yaml.safe_load(stream)\n",
    "\n",
    "print(data_loaded)"
   ]
  },
  {
   "cell_type": "code",
   "execution_count": 7,
   "metadata": {},
   "outputs": [],
   "source": [
    "import json\n",
    "result = {}\n",
    "for entry in data_loaded:\n",
    "    result[entry[\"name\"]] = {\"defn\" : entry[\"defn\"], \"type\" : entry[\"type\"]}\n",
    "json.dump(result,open(\"deps_copy_rep.json\",\"w\"))"
   ]
  },
  {
   "attachments": {},
   "cell_type": "markdown",
   "metadata": {},
   "source": [
    "### create .dot file"
   ]
  },
  {
   "cell_type": "code",
   "execution_count": 8,
   "metadata": {},
   "outputs": [
    {
     "data": {
      "text/plain": [
       "{'defn': ['Equiv.injective', 'Tropical.tropEquiv'],\n",
       " 'type': ['Function.Injective', 'Tropical.trop']}"
      ]
     },
     "execution_count": 8,
     "metadata": {},
     "output_type": "execute_result"
    }
   ],
   "source": [
    "result[\"Tropical.injective_trop\"]"
   ]
  },
  {
   "cell_type": "code",
   "execution_count": 2,
   "metadata": {},
   "outputs": [],
   "source": [
    "import json\n",
    "from queue import Queue\n",
    "q =  Queue()"
   ]
  },
  {
   "cell_type": "code",
   "execution_count": 6,
   "metadata": {},
   "outputs": [
    {
     "name": "stdout",
     "output_type": "stream",
     "text": [
      "79\n",
      "79\n",
      "[('Multiset.le_union_right', ['LE.le', 'Union.union']), ('HSub.hSub', []), ('Multiset.le_add_left', ['LE.le', 'HAdd.hAdd']), ('LE.le', []), ('Union.union', []), ('Multiset.zero_le', ['LE.le', 'OfNat.ofNat']), ('Eq.mp', []), ('le_add_iff_nonneg_left', ['LE.le', 'HAdd.hAdd', 'OfNat.ofNat', 'Iff']), ('propext', ['Eq']), ('HAdd.hAdd', []), ('congrFun', ['Eq']), ('zero_add', ['HAdd.hAdd', 'Eq', 'OfNat.ofNat']), ('congrArg', ['Eq']), ('Eq.mpr', []), ('add_le_add_right', ['LE.le', 'HAdd.hAdd']), ('id', []), ('Eq.trans', ['Eq']), ('LE.le', []), ('Quot.inductionOn', []), ('List.nil_sublist', ['List.Sublist', 'List.nil']), ('List.Sublist.subperm', ['List.Subperm']), ('OfNat.ofNat', []), ('HAdd.hAdd', []), ('zero_add', ['HAdd.hAdd', 'Eq', 'OfNat.ofNat']), ('add_le_add_iff_right', ['LE.le', 'HAdd.hAdd', 'Iff']), ('Eq.mpr', []), ('Iff.trans', ['Iff']), ('id', []), ('LE.le', []), ('Iff.rfl', ['Iff']), ('Eq.refl', ['Eq']), ('Iff', []), ('rfl', ['Eq']), ('AddZeroClass.zero_add', ['HAdd.hAdd', 'Eq', 'OfNat.ofNat']), ('rfl', ['Eq']), ('Eq.symm', ['Eq']), ('CovariantClass.elim', ['Covariant']), ('Quot.ind', []), ('Unit.unit', ['Unit']), ('List.Sublist.cons', ['List.Sublist', 'List.cons']), ('List.nil', ['List']), ('List.Sublist.slnil', ['List.Sublist', 'List.nil']), ('PUnit', []), ('List.Sublist', []), ('PProd.fst', []), ('List.Perm.refl', ['List.Perm']), ('Exists.intro', ['Exists']), ('AddZeroClass.zero_add', ['HAdd.hAdd', 'Eq', 'OfNat.ofNat']), ('HAdd.hAdd', []), ('LE.le', []), ('Function.swap', []), ('rel_iff_cov', ['Iff']), ('Eq.symm', ['Eq']), ('Iff.mp', []), ('Iff.intro', ['Iff']), ('Iff.mpr', []), ('Iff.refl', ['Iff']), ('rfl.proof_1', ['Eq']), ('rfl.proof_1', ['Eq']), ('rfl', ['Eq']), ('PUnit.unit', ['PUnit']), ('Unit.unit', ['Unit']), ('List.Perm.nil', ['List.Perm', 'List.nil']), ('List.Perm.cons', ['List.Perm', 'List.cons']), ('List.Perm', []), ('PUnit', []), ('PProd.fst', []), ('ContravariantClass.elim', ['Contravariant']), ('CovariantClass.elim', ['Covariant']), ('Iff.intro', ['Iff']), ('rfl', ['Eq']), ('Iff.intro', ['Iff']), ('Eq.refl', ['Eq']), ('Eq.refl', ['Eq']), ('rfl.proof_1', ['Eq']), ('PUnit.unit', ['PUnit']), ('rfl.proof_1', ['Eq']), ('Eq.refl', ['Eq']), ('Eq.refl', ['Eq'])]\n",
      "[('Multiset.le_union_right', ['HSub.hSub', 'Multiset.le_add_left']), ('HSub.hSub', []), ('Multiset.le_add_left', ['Multiset.zero_le', 'Eq.mp', 'le_add_iff_nonneg_left', 'propext', 'HAdd.hAdd', 'congrFun', 'zero_add', 'congrArg', 'Eq.mpr', 'add_le_add_right', 'id', 'Eq.trans', 'LE.le']), ('LE.le', []), ('Union.union', []), ('Multiset.zero_le', ['Quot.inductionOn', 'List.nil_sublist', 'List.Sublist.subperm']), ('Eq.mp', []), ('le_add_iff_nonneg_left', ['OfNat.ofNat', 'HAdd.hAdd', 'zero_add', 'add_le_add_iff_right', 'Eq.mpr', 'Iff.trans', 'id', 'LE.le', 'Iff.rfl', 'Eq.refl', 'Iff']), ('propext', []), ('HAdd.hAdd', []), ('congrFun', ['rfl']), ('zero_add', ['AddZeroClass.zero_add']), ('congrArg', ['rfl']), ('Eq.mpr', ['Eq.symm']), ('add_le_add_right', ['CovariantClass.elim']), ('id', []), ('Eq.trans', []), ('LE.le', []), ('Quot.inductionOn', ['Quot.ind']), ('List.nil_sublist', ['Unit.unit', 'List.Sublist.cons', 'List.nil', 'List.Sublist.slnil', 'PUnit', 'List.Sublist', 'PProd.fst']), ('List.Sublist.subperm', ['List.Perm.refl', 'Exists.intro']), ('OfNat.ofNat', []), ('HAdd.hAdd', []), ('zero_add', ['AddZeroClass.zero_add']), ('add_le_add_iff_right', ['HAdd.hAdd', 'LE.le', 'Function.swap', 'rel_iff_cov']), ('Eq.mpr', ['Eq.symm']), ('Iff.trans', ['Iff.mp', 'Iff.intro', 'Iff.mpr']), ('id', []), ('LE.le', []), ('Iff.rfl', ['Iff.refl']), ('Eq.refl', []), ('Iff', []), ('rfl', ['rfl.proof_1']), ('AddZeroClass.zero_add', []), ('rfl', ['rfl.proof_1']), ('Eq.symm', ['rfl']), ('CovariantClass.elim', []), ('Quot.ind', []), ('Unit.unit', ['PUnit.unit']), ('List.Sublist.cons', []), ('List.nil', []), ('List.Sublist.slnil', []), ('PUnit', []), ('List.Sublist', []), ('PProd.fst', []), ('List.Perm.refl', ['Unit.unit', 'List.Perm.nil', 'List.Perm.cons', 'List.Perm', 'PUnit', 'PProd.fst']), ('Exists.intro', []), ('AddZeroClass.zero_add', []), ('HAdd.hAdd', []), ('LE.le', []), ('Function.swap', []), ('rel_iff_cov', ['ContravariantClass.elim', 'CovariantClass.elim', 'Iff.intro']), ('Eq.symm', ['rfl']), ('Iff.mp', []), ('Iff.intro', []), ('Iff.mpr', []), ('Iff.refl', ['Iff.intro']), ('rfl.proof_1', ['Eq.refl']), ('rfl.proof_1', ['Eq.refl']), ('rfl', ['rfl.proof_1']), ('PUnit.unit', []), ('Unit.unit', ['PUnit.unit']), ('List.Perm.nil', []), ('List.Perm.cons', []), ('List.Perm', []), ('PUnit', []), ('PProd.fst', []), ('ContravariantClass.elim', []), ('CovariantClass.elim', []), ('Iff.intro', []), ('rfl', ['rfl.proof_1']), ('Iff.intro', []), ('Eq.refl', []), ('Eq.refl', []), ('rfl.proof_1', ['Eq.refl']), ('PUnit.unit', []), ('rfl.proof_1', ['Eq.refl']), ('Eq.refl', []), ('Eq.refl', [])]\n"
     ]
    }
   ],
   "source": [
    "result = json.load(open(\"deps_copy_rep.json\",\"r\"))\n",
    "edge_list_defn = []\n",
    "edge_list_type = []\n",
    "name = 'Multiset.le_union_right'\n",
    "defns = list(set(result[name][\"defn\"]))\n",
    "types = list(set(result[name][\"type\"]))\n",
    "ele_defn = (name,defns)\n",
    "ele_type = (name,types)\n",
    "edge_list_defn.append(ele_defn)\n",
    "edge_list_type.append(ele_type)\n",
    "for entry in defns:\n",
    "    q.put(entry)\n",
    "for entry in types:\n",
    "    q.put(entry)\n",
    "while not q.empty():\n",
    "    name = q.get()\n",
    "    try:\n",
    "        defns = list(set(result[name][\"defn\"]))\n",
    "        types = list(set(result[name][\"type\"]))\n",
    "        ele_defn = (name,defns)\n",
    "        ele_type = (name,types)\n",
    "        edge_list_defn.append(ele_defn)\n",
    "        edge_list_type.append(ele_type)\n",
    "        for elem in defns:\n",
    "            q.put(elem)\n",
    "        for elem in types:\n",
    "            q.put(types)\n",
    "    except:\n",
    "        continue\n",
    "\n",
    "#print(edge_list_defn)\n",
    "print(len(edge_list_defn))\n",
    "print(len(edge_list_type))\n",
    "# for i in edge_list:\n",
    "#     print(i[0],i[1])\n",
    "print(edge_list_type)\n",
    "print(edge_list_defn)\n"
   ]
  },
  {
   "cell_type": "code",
   "execution_count": 7,
   "metadata": {},
   "outputs": [],
   "source": [
    "dot_file = open(\"ex3.dot\",\"w\")\n",
    "dot_file.write(\"strict digraph { \\n\")\n",
    "for entry in edge_list_defn:\n",
    "    if len(entry[1]) == 0:\n",
    "        continue\n",
    "    for i,ele in enumerate(entry[1]):\n",
    "        entry[1][i] = \"\\\"\"+ele+\"\\\" [color=green]\"\n",
    "    res = \"{\" + ' '.join(entry[1]) + \"}\"\n",
    "    dot_file.write(\"\\t\\\"{}\\\" -> {}\\n\".format(entry[0],res))\n",
    "\n",
    "for entry in edge_list_type:\n",
    "    if len(entry[1]) == 0:\n",
    "        continue\n",
    "    for i,ele in enumerate(entry[1]):\n",
    "        entry[1][i] = \"\\\"\"+ele+\"\\\" [color=blue]\"\n",
    "    res = \"{\" + ' '.join(entry[1]) + \"}\"\n",
    "    dot_file.write(\"\\t\\\"{}\\\" -> {}\\n\".format(entry[0],res))\n",
    "dot_file.write(\"\\t}\")\n",
    "dot_file.close()\n"
   ]
  }
 ],
 "metadata": {
  "kernelspec": {
   "display_name": "new_env",
   "language": "python",
   "name": "python3"
  },
  "language_info": {
   "codemirror_mode": {
    "name": "ipython",
    "version": 3
   },
   "file_extension": ".py",
   "mimetype": "text/x-python",
   "name": "python",
   "nbconvert_exporter": "python",
   "pygments_lexer": "ipython3",
   "version": "3.8.16"
  },
  "orig_nbformat": 4
 },
 "nbformat": 4,
 "nbformat_minor": 2
}
