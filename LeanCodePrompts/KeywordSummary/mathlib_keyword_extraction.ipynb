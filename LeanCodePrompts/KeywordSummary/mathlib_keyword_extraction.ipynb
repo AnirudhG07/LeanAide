{
 "cells": [
  {
   "cell_type": "markdown",
   "metadata": {},
   "source": [
    "# Keyword extraction experiments"
   ]
  },
  {
   "cell_type": "markdown",
   "metadata": {},
   "source": [
    "Running the cell below loads the details about statements and keywords."
   ]
  },
  {
   "cell_type": "code",
   "execution_count": 15,
   "metadata": {},
   "outputs": [],
   "source": [
    "import json\n",
    "\n",
    "mathlib_keyword_summary = json.load(open(\"full_mathlib_keyword_summary.json\", \"r\"))"
   ]
  },
  {
   "cell_type": "markdown",
   "metadata": {},
   "source": [
    "A function to find the sentences containing a given keyword."
   ]
  },
  {
   "cell_type": "code",
   "execution_count": 18,
   "metadata": {},
   "outputs": [],
   "source": [
    "def get_statements_with_keyword(kw:str) -> list:\n",
    "    return [stmt for stmt in mathlib_keyword_summary if kw in stmt[\"keywords\"]]"
   ]
  },
  {
   "cell_type": "markdown",
   "metadata": {},
   "source": [
    "---"
   ]
  },
  {
   "cell_type": "markdown",
   "metadata": {},
   "source": [
    "A test with a specific keyword."
   ]
  },
  {
   "cell_type": "code",
   "execution_count": 19,
   "metadata": {},
   "outputs": [
    {
     "name": "stdout",
     "output_type": "stream",
     "text": [
      " Two homomorphisms out of a free group are equal if they are equal on generators.  See note [partially-applied ext lemmas].\n",
      " If two words correspond to the same element in the free group, then they have a common maximal reduction. This is the proof that the function that sends an element of the free group to its maximal reduction is well-defined.\n",
      " A word and its maximal reduction correspond to the same element of the free group.\n",
      "Quotienting a group by its additive torsion subgroup yields an additive torsion free group.\n",
      "Quotienting a group by its torsion subgroup yields a torsion free group.\n",
      " If two words have a common maximal reduction, then they correspond to the same element in the free group.\n",
      " The universal property of a free group: A functions from the generators of `G` to another group extends in a unique way to a homomorphism from `G`.  Note that since `is_free_group.lift` is expressed as a bijection, it already expresses the universal property.\n",
      "The canonical injection from the type to the free group is an injection.\n"
     ]
    }
   ],
   "source": [
    "for stmt in get_statements_with_keyword(\"free group\"):\n",
    "    print(stmt[\"doc_string\"])"
   ]
  },
  {
   "cell_type": "markdown",
   "metadata": {},
   "source": [
    "---\n",
    "\n",
    "## The Yake keyword extractor"
   ]
  },
  {
   "cell_type": "markdown",
   "metadata": {},
   "source": [
    "Running this as well as the next section requires having [`Yake` - _Yet Another Keyword Extractor_](https://pypi.org/project/yake/).\n",
    "\n",
    "`Yake` can be installed by running `pip3 install -U yake`."
   ]
  },
  {
   "cell_type": "code",
   "execution_count": 1,
   "metadata": {},
   "outputs": [],
   "source": [
    "import yake\n",
    "\n",
    "kw_extractor = yake.KeywordExtractor()"
   ]
  },
  {
   "cell_type": "markdown",
   "metadata": {},
   "source": [
    "An example of extracting keywords from a statement"
   ]
  },
  {
   "cell_type": "code",
   "execution_count": 20,
   "metadata": {},
   "outputs": [
    {
     "data": {
      "text/plain": [
       "[('field', 0.15831692877998726), ('ring', 0.29736558256021506)]"
      ]
     },
     "execution_count": 20,
     "metadata": {},
     "output_type": "execute_result"
    }
   ],
   "source": [
    "kw_extractor.extract_keywords(\"Every ring is a field.\")"
   ]
  },
  {
   "cell_type": "markdown",
   "metadata": {},
   "source": [
    "---\n",
    "# ProofWiki statement experiments"
   ]
  },
  {
   "cell_type": "code",
   "execution_count": 28,
   "metadata": {},
   "outputs": [],
   "source": [
    "import random"
   ]
  },
  {
   "cell_type": "markdown",
   "metadata": {},
   "source": [
    "The collection of theorems from ProofWiki. The cell below needs to be loaded only once. "
   ]
  },
  {
   "cell_type": "code",
   "execution_count": 32,
   "metadata": {},
   "outputs": [],
   "source": [
    "proofwiki_theorems = json.load(open(\"./../misc_experiments/proofwiki.json\", \"r\"))[\"dataset\"][\"theorems\"]"
   ]
  },
  {
   "cell_type": "markdown",
   "metadata": {},
   "source": [
    "A small program to chose a theorem and its corresponding proof from ProofWiki. This cell also needs to be run just once."
   ]
  },
  {
   "cell_type": "code",
   "execution_count": 62,
   "metadata": {},
   "outputs": [],
   "source": [
    "def choose_theorem():\n",
    "    random_theorem = random.choice(proofwiki_theorems)\n",
    "    while random_theorem[\"proofs\"] == []:\n",
    "        random_theorem = random.choice(proofwiki_theorems)\n",
    "    \n",
    "    return random_theorem, random.choice(random_theorem[\"proofs\"])"
   ]
  },
  {
   "cell_type": "markdown",
   "metadata": {},
   "source": [
    "The experimentation begins here. We start by choosing a random theorem and its corresponding proof. "
   ]
  },
  {
   "cell_type": "code",
   "execution_count": 70,
   "metadata": {},
   "outputs": [],
   "source": [
    "random_theorem, random_proof = choose_theorem()"
   ]
  },
  {
   "cell_type": "markdown",
   "metadata": {},
   "source": [
    "The title of the theorem is:"
   ]
  },
  {
   "cell_type": "code",
   "execution_count": 71,
   "metadata": {},
   "outputs": [
    {
     "data": {
      "text/plain": [
       "'Basis of Free Module is No Greater than Generator'"
      ]
     },
     "execution_count": 71,
     "metadata": {},
     "output_type": "execute_result"
    }
   ],
   "source": [
    "random_theorem[\"title\"]"
   ]
  },
  {
   "cell_type": "markdown",
   "metadata": {},
   "source": [
    "The chosen proof is in the output of the next code cell. Since the proof can be quite large, it is best to run the next cell only when a careful inspection of the proof is required. "
   ]
  },
  {
   "cell_type": "code",
   "execution_count": null,
   "metadata": {},
   "outputs": [],
   "source": [
    "# The theorem statement\n",
    "for line in random_theorem[\"contents\"]:\n",
    "    print(line)\n",
    "\n",
    "print(\"\\n\\n Proof: \\n\")\n",
    "\n",
    "# The proof\n",
    "for line in random_proof[\"contents\"]:\n",
    "    print(line)"
   ]
  },
  {
   "cell_type": "markdown",
   "metadata": {},
   "source": [
    "The keywords extracted from the theorem statement and proof are in the output of the next cell. This part uses `Yake`, a keyword extraction tool. "
   ]
  },
  {
   "cell_type": "code",
   "execution_count": 79,
   "metadata": {},
   "outputs": [
    {
     "data": {
      "text/plain": [
       "[('Definition', 0.0031778568390870257),\n",
       " ('Free Module', 0.0061323616934051755),\n",
       " ('Module Homomorphism', 0.007148831579508057),\n",
       " ('Module', 0.007640668938014451),\n",
       " ('Canonical Basis', 0.014328056073927967),\n",
       " ('Basis', 0.020649934194435365),\n",
       " ('Commutative and Unitary', 0.021179825255396932),\n",
       " ('Module on Set', 0.030081708982670794),\n",
       " ('Unitary Ring', 0.030194218673231944),\n",
       " ('Free', 0.03055705496922549),\n",
       " ('paren', 0.0342159951743744),\n",
       " ('set', 0.03641188546202711),\n",
       " ('commutative ring', 0.03951471460385235),\n",
       " ('Homomorphism', 0.03962017082079049),\n",
       " ('Generator', 0.045559548356186294),\n",
       " ('Basis of Free', 0.04612927143326951),\n",
       " ('Commutative', 0.05148192694927661),\n",
       " ('Vector Space', 0.05444464630800907),\n",
       " ('Canonical', 0.05808429902925768),\n",
       " ('Maximal Ideal', 0.05822570296344944)]"
      ]
     },
     "execution_count": 79,
     "metadata": {},
     "output_type": "execute_result"
    }
   ],
   "source": [
    "kw_extractor.extract_keywords(\n",
    "    ' '.join(random_theorem[\"contents\"]) + \n",
    "    ' '.join(random_proof[\"contents\"]))"
   ]
  },
  {
   "cell_type": "markdown",
   "metadata": {},
   "source": [
    "For comparison, these are some of the definitions that were referred to in the theorem statement and proof:"
   ]
  },
  {
   "cell_type": "code",
   "execution_count": 81,
   "metadata": {},
   "outputs": [
    {
     "data": {
      "text/plain": [
       "['Definition:Commutative and Unitary Ring',\n",
       " 'Definition:Free Module',\n",
       " 'Definition:Basis (Linear Algebra)',\n",
       " 'Definition:Generator of Module',\n",
       " 'Definition:Injection',\n",
       " 'Definition:Generator of Module',\n",
       " 'Definition:Surjection',\n",
       " 'Definition:Linear Transformation',\n",
       " 'Definition:Free Module on Set',\n",
       " 'Definition:Basis of Module',\n",
       " 'Definition:Isomorphism (Abstract Algebra)/R-Algebraic Structure Isomorphism/Module Isomorphism',\n",
       " 'Definition:Surjection',\n",
       " 'Definition:Linear Transformation',\n",
       " \"Krull's Theorem\",\n",
       " 'Definition:Maximal Ideal of Ring',\n",
       " 'Maximal Ideal iff Quotient Ring is Field',\n",
       " 'Definition:Field (Abstract Algebra)',\n",
       " 'Definition:Quotient Mapping',\n",
       " 'Definition:Linear Transformation',\n",
       " 'Definition:Direct Sum of Module Homomorphisms',\n",
       " 'Definition:Surjection',\n",
       " 'Definition:Free Module on Set/Canonical Basis',\n",
       " 'Definition:Free Module on Set/Canonical Basis',\n",
       " 'Definition:Generator of Vector Space',\n",
       " 'Definition:Surjection',\n",
       " 'Definition:Generator of Vector Space',\n",
       " 'Basis of Vector Space Injects into Generator',\n",
       " 'Cardinality of Image of Mapping not greater than Cardinality of Domain']"
      ]
     },
     "execution_count": 81,
     "metadata": {},
     "output_type": "execute_result"
    }
   ],
   "source": [
    "random_theorem[\"refs\"] + random_proof[\"refs\"]"
   ]
  },
  {
   "cell_type": "markdown",
   "metadata": {},
   "source": [
    "These are the categories in ProofWiki that the *theorem* belongs to.  "
   ]
  },
  {
   "cell_type": "code",
   "execution_count": 74,
   "metadata": {},
   "outputs": [
    {
     "data": {
      "text/plain": [
       "['Free Modules']"
      ]
     },
     "execution_count": 74,
     "metadata": {},
     "output_type": "execute_result"
    }
   ],
   "source": [
    "random_theorem[\"categories\"]"
   ]
  },
  {
   "cell_type": "markdown",
   "metadata": {},
   "source": [
    "---"
   ]
  }
 ],
 "metadata": {
  "kernelspec": {
   "display_name": "Python 3.10.5 64-bit",
   "language": "python",
   "name": "python3"
  },
  "language_info": {
   "codemirror_mode": {
    "name": "ipython",
    "version": 3
   },
   "file_extension": ".py",
   "mimetype": "text/x-python",
   "name": "python",
   "nbconvert_exporter": "python",
   "pygments_lexer": "ipython3",
   "version": "3.10.5"
  },
  "orig_nbformat": 4,
  "vscode": {
   "interpreter": {
    "hash": "e7370f93d1d0cde622a1f8e1c04877d8463912d04d973331ad4851f04de6915a"
   }
  }
 },
 "nbformat": 4,
 "nbformat_minor": 2
}
