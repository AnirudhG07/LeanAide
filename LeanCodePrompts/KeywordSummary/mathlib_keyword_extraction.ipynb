{
 "cells": [
  {
   "cell_type": "markdown",
   "metadata": {},
   "source": [
    "# Keyword extraction experiments"
   ]
  },
  {
   "cell_type": "markdown",
   "metadata": {},
   "source": [
    "Running the cell below loads the details about statements and keywords."
   ]
  },
  {
   "cell_type": "code",
   "execution_count": 4,
   "metadata": {},
   "outputs": [],
   "source": [
    "import json\n",
    "\n",
    "mathlib_keyword_summary = json.load(open(\"full_mathlib_keyword_summary.json\", \"r\"))"
   ]
  },
  {
   "cell_type": "markdown",
   "metadata": {},
   "source": [
    "A function to find the sentences containing a given keyword."
   ]
  },
  {
   "cell_type": "code",
   "execution_count": 2,
   "metadata": {},
   "outputs": [],
   "source": [
    "def get_statements_with_keyword(kw:str) -> list:\n",
    "    return [stmt for stmt in mathlib_keyword_summary if kw in stmt[\"keywords\"]]"
   ]
  },
  {
   "cell_type": "markdown",
   "metadata": {},
   "source": [
    "---"
   ]
  },
  {
   "cell_type": "markdown",
   "metadata": {},
   "source": [
    "A test with a specific keyword."
   ]
  },
  {
   "cell_type": "code",
   "execution_count": 4,
   "metadata": {},
   "outputs": [
    {
     "name": "stdout",
     "output_type": "stream",
     "text": [
      "0.09568045026443411\n",
      "0.07438724594558906\n",
      "0.06844581806138879\n",
      "0.05393656033701752\n",
      "0.0528063806271324\n",
      "0.0528063806271324\n",
      "0.059572864407278624\n",
      "0.09593831581184391\n",
      "0.18569843656348187\n",
      "0.0596404586934656\n",
      "0.17881754828257995\n",
      "0.11227863081557292\n",
      "0.14390902704051098\n",
      "0.05393656033701752\n",
      "0.18569843656348187\n",
      "0.059572864407278624\n",
      "0.0768411838291854\n",
      "0.07030442419566416\n",
      "0.0528063806271324\n",
      "0.28325026875694265\n",
      "0.1155310835876123\n",
      "0.0771485953923296\n",
      "0.06037786452709367\n",
      "0.30753389830415107\n",
      "0.054709255964732355\n",
      "0.15831692877998726\n",
      "0.1778692885602501\n",
      "0.09568045026443411\n",
      "0.08205340856523911\n",
      "0.2094232239987773\n",
      "0.13309686053898662\n",
      "0.04491197687864554\n",
      "0.0771485953923296\n",
      "0.12113252405818227\n",
      "0.05331699930238388\n",
      "0.19744254481508877\n",
      "0.04491197687864554\n",
      "0.052376395424323874\n",
      "0.14222822903176371\n",
      "0.15831692877998726\n",
      "0.1155310835876123\n",
      "0.09631441144923199\n",
      "0.15831692877998726\n",
      "0.04491197687864554\n",
      "0.05815421818951193\n",
      "0.053316999302383886\n",
      "0.04491197687864554\n",
      "0.09492398510093508\n",
      "0.07767990991064867\n",
      "0.04491197687864554\n",
      "0.02107242729789198\n",
      "0.19092478917347616\n",
      "0.07542246988156216\n",
      "0.29736558256021506\n",
      "0.32883716426354986\n",
      "0.04491197687864554\n",
      "0.09856372721054514\n",
      "0.022755892264802204\n",
      "0.0514064682630094\n",
      "0.04491197687864554\n",
      "0.07302273033568236\n",
      "0.05676635054588953\n",
      "0.05393656033701752\n",
      "0.30753389830415107\n",
      "0.15831692877998726\n",
      "0.29736558256021506\n",
      "0.2073967262817198\n",
      "0.09568045026443411\n",
      "0.1155310835876123\n",
      "0.06037786452709367\n",
      "0.1838594885424691\n",
      "0.29736558256021506\n",
      "0.09856372721054514\n",
      "0.09568045026443411\n",
      "0.29736558256021506\n",
      "0.04491197687864554\n",
      "0.05331699930238388\n",
      "0.09384485274935173\n",
      "0.246550513069643\n",
      "0.0884115401214994\n",
      "0.04491197687864554\n",
      "0.02781735906757878\n",
      "0.0596404586934656\n",
      "0.04491197687864554\n",
      "0.04491197687864554\n",
      "0.060788587812935495\n",
      "0.1702589339849092\n",
      "0.13309686053898662\n",
      "0.1954257385705354\n",
      "0.1155310835876123\n",
      "0.06037786452709367\n",
      "0.10987504304330521\n",
      "0.15831692877998726\n",
      "0.04491197687864554\n",
      "0.04491197687864554\n",
      "0.07030442419566416\n",
      "0.18569843656348187\n",
      "0.15831692877998726\n",
      "0.05706283858652404\n",
      "0.29736558256021506\n",
      "0.1155310835876123\n",
      "0.19092478917347616\n",
      "0.10191687733271076\n",
      "0.2005079697193566\n",
      "0.04491197687864554\n",
      "0.06346985717121927\n",
      "0.29736558256021506\n",
      "0.20968316837900652\n",
      "0.11147853784320853\n",
      "0.12363091320521931\n",
      "0.04491197687864554\n",
      "0.052376395424323874\n",
      "0.0771485953923296\n",
      "0.08293109455034965\n",
      "0.05632962681207606\n",
      "0.0596404586934656\n",
      "0.29736558256021506\n",
      "0.3160777540947682\n",
      "0.05706283858652404\n",
      "0.09593831581184391\n",
      "0.06037786452709367\n",
      "0.15831692877998726\n",
      "0.09593831581184391\n",
      "0.051687907611449965\n",
      "0.05632962681207606\n",
      "0.1307329752893216\n",
      "0.06844581806138879\n",
      "0.05708058999153848\n",
      "0.05393656033701752\n",
      "0.060145640381597615\n",
      "0.1384995633470844\n",
      "0.05632962681207606\n",
      "0.04491197687864554\n",
      "0.21150701240688133\n",
      "0.060145640381597615\n",
      "0.06037786452709367\n",
      "0.06839635777587466\n",
      "0.19488865479360015\n",
      "0.15831692877998726\n",
      "0.04491197687864554\n",
      "0.057012387690331526\n",
      "0.09329120537733218\n",
      "0.1367145963576765\n",
      "0.12020179387143623\n",
      "0.29736558256021506\n",
      "0.04491197687864554\n",
      "0.054709255964732355\n",
      "0.020602899695743707\n",
      "0.1155310835876123\n",
      "0.18569843656348187\n",
      "0.06123741645018452\n",
      "0.29736558256021506\n",
      "0.1838594885424691\n",
      "0.09593831581184391\n",
      "0.04491197687864554\n",
      "0.19488865479360015\n",
      "0.13453835116331675\n",
      "0.05393656033701752\n",
      "0.094808423351325\n",
      "0.04491197687864554\n",
      "0.06123741645018452\n",
      "0.13667842094541144\n",
      "0.12197993148826404\n",
      "0.054709255964732355\n",
      "0.07431450488929812\n",
      "0.054709255964732355\n",
      "0.04491197687864554\n",
      "0.05393656033701752\n",
      "0.08218126042220884\n",
      "0.19092478917347616\n",
      "0.0596404586934656\n",
      "0.08828548759776675\n",
      "0.15831692877998726\n",
      "0.09856372721054514\n",
      "0.11647786950765905\n",
      "0.1155310835876123\n",
      "0.1414157594010238\n",
      "0.05331699930238388\n",
      "0.1155310835876123\n",
      "0.04491197687864554\n",
      "0.13149453879183629\n",
      "0.04491197687864554\n",
      "0.07204380010119749\n",
      "0.04491197687864554\n",
      "0.0596404586934656\n",
      "0.09832504329014995\n",
      "0.29736558256021506\n",
      "0.15831692877998726\n",
      "0.06844581806138879\n",
      "0.13083850849172096\n",
      "0.054709255964732355\n",
      "0.05888572039821348\n",
      "0.09713402394201612\n",
      "0.05393656033701752\n",
      "0.04491197687864554\n",
      "0.08694429213997827\n",
      "0.04491197687864554\n",
      "0.29736558256021506\n",
      "0.15831692877998726\n",
      "0.11369206228658875\n",
      "0.09568045026443411\n",
      "0.19092478917347616\n",
      "0.08088209179216702\n",
      "0.18569843656348187\n",
      "0.29736558256021506\n",
      "0.04491197687864554\n",
      "0.05706283858652404\n",
      "0.020944683225967962\n",
      "0.05632962681207606\n",
      "0.0528063806271324\n",
      "0.10570086230597084\n",
      "0.0604415109848293\n",
      "0.1879836817695587\n",
      "0.06037786452709367\n",
      "0.15831692877998726\n",
      "0.05393656033701752\n",
      "0.20109116132670046\n",
      "0.05331699930238388\n",
      "0.052376395424323874\n",
      "0.09568045026443411\n",
      "0.04491197687864554\n",
      "0.04491197687864554\n",
      "0.04491197687864554\n",
      "0.07633745084699749\n",
      "0.05393656033701752\n",
      "0.12520420549175446\n",
      "0.06865960180308248\n",
      "0.08218126042220884\n",
      "0.4496495765069246\n",
      "0.0528063806271324\n",
      "0.09856372721054514\n",
      "0.14832923246533666\n",
      "0.0596404586934656\n",
      "0.132239959875874\n",
      "0.0596404586934656\n",
      "0.15831692877998726\n",
      "0.15831692877998726\n",
      "0.054709255964732355\n",
      "0.13945519496053638\n",
      "0.15831692877998726\n",
      "0.04491197687864554\n",
      "0.052376395424323874\n",
      "0.05748129405052856\n",
      "0.25913107553909676\n",
      "0.11357121248292479\n",
      "0.07030442419566416\n",
      "0.04491197687864554\n",
      "0.04491197687864554\n",
      "0.29736558256021506\n",
      "0.09568045026443411\n",
      "0.2005079697193566\n",
      "0.19488865479360015\n",
      "0.04491197687864554\n",
      "0.1155310835876123\n",
      "0.0854657865066363\n",
      "0.05331699930238388\n",
      "0.1408007092310104\n",
      "0.04491197687864554\n",
      "0.061515127169190206\n",
      "0.04491197687864554\n",
      "0.09568045026443411\n",
      "0.1155310835876123\n",
      "0.15831692877998726\n",
      "0.08361462103586328\n",
      "0.05706283858652404\n",
      "0.1384995633470844\n",
      "0.1367145963576765\n",
      "0.0585603521889348\n",
      "0.05331699930238388\n"
     ]
    }
   ],
   "source": [
    "for stmt in get_statements_with_keyword(\"monoid\"):\n",
    "    print(stmt[\"keywords\"][\"monoid\"])"
   ]
  },
  {
   "cell_type": "markdown",
   "metadata": {},
   "source": [
    "---\n",
    "\n",
    "## The Yake keyword extractor"
   ]
  },
  {
   "cell_type": "markdown",
   "metadata": {},
   "source": [
    "Running this as well as the next section requires having [`Yake` - _Yet Another Keyword Extractor_](https://pypi.org/project/yake/).\n",
    "\n",
    "`Yake` can be installed by running `pip3 install -U yake`."
   ]
  },
  {
   "cell_type": "code",
   "execution_count": 13,
   "metadata": {},
   "outputs": [],
   "source": [
    "import yake\n",
    "\n",
    "kw_extractor = yake.KeywordExtractor()"
   ]
  },
  {
   "cell_type": "markdown",
   "metadata": {},
   "source": [
    "An example of extracting keywords from a statement"
   ]
  },
  {
   "cell_type": "code",
   "execution_count": 6,
   "metadata": {},
   "outputs": [
    {
     "data": {
      "text/plain": [
       "[('field', 0.15831692877998726), ('ring', 0.29736558256021506)]"
      ]
     },
     "execution_count": 6,
     "metadata": {},
     "output_type": "execute_result"
    }
   ],
   "source": [
    "kw_extractor.extract_keywords(\"Every ring is a field.\")"
   ]
  },
  {
   "cell_type": "markdown",
   "metadata": {},
   "source": [
    "---\n",
    "# ProofWiki statement experiments"
   ]
  },
  {
   "cell_type": "code",
   "execution_count": 7,
   "metadata": {},
   "outputs": [],
   "source": [
    "import random"
   ]
  },
  {
   "cell_type": "markdown",
   "metadata": {},
   "source": [
    "The collection of theorems from ProofWiki. The cell below needs to be loaded only once. "
   ]
  },
  {
   "cell_type": "code",
   "execution_count": 8,
   "metadata": {},
   "outputs": [],
   "source": [
    "proofwiki_theorems = json.load(open(\"./../misc_experiments/proofwiki.json\", \"r\"))[\"dataset\"][\"theorems\"]"
   ]
  },
  {
   "cell_type": "markdown",
   "metadata": {},
   "source": [
    "A small program to chose a theorem and its corresponding proof from ProofWiki. This cell also needs to be run just once."
   ]
  },
  {
   "cell_type": "code",
   "execution_count": 9,
   "metadata": {},
   "outputs": [],
   "source": [
    "def choose_theorem():\n",
    "    random_theorem = random.choice(proofwiki_theorems)\n",
    "    while random_theorem[\"proofs\"] == []:\n",
    "        random_theorem = random.choice(proofwiki_theorems)\n",
    "    \n",
    "    return random_theorem, random.choice(random_theorem[\"proofs\"])"
   ]
  },
  {
   "cell_type": "markdown",
   "metadata": {},
   "source": [
    "The experimentation begins here. We start by choosing a random theorem and its corresponding proof. "
   ]
  },
  {
   "cell_type": "code",
   "execution_count": 62,
   "metadata": {},
   "outputs": [],
   "source": [
    "random_theorem, random_proof = choose_theorem()"
   ]
  },
  {
   "cell_type": "markdown",
   "metadata": {},
   "source": [
    "The title of the theorem is:"
   ]
  },
  {
   "cell_type": "code",
   "execution_count": 63,
   "metadata": {},
   "outputs": [
    {
     "data": {
      "text/plain": [
       "'Element of Group is in its own Coset/Right'"
      ]
     },
     "execution_count": 63,
     "metadata": {},
     "output_type": "execute_result"
    }
   ],
   "source": [
    "random_theorem[\"title\"]"
   ]
  },
  {
   "cell_type": "markdown",
   "metadata": {},
   "source": [
    "The chosen proof is in the output of the next code cell. Since the proof can be quite large, it is best to run the next cell only when a careful inspection of the proof is required. "
   ]
  },
  {
   "cell_type": "code",
   "execution_count": 66,
   "metadata": {},
   "outputs": [],
   "source": [
    "if False:\n",
    "    # The theorem statement\n",
    "    for line in random_theorem[\"contents\"]:\n",
    "        print(line)\n",
    "\n",
    "    print(\"\\n\\n Proof: \\n\")\n",
    "\n",
    "    # The proof\n",
    "    for line in random_proof[\"contents\"]:\n",
    "        print(line)"
   ]
  },
  {
   "cell_type": "markdown",
   "metadata": {},
   "source": [
    "The keywords extracted from the theorem statement and proof are in the output of the next cell. This part uses `Yake`, a keyword extraction tool. "
   ]
  },
  {
   "cell_type": "code",
   "execution_count": 67,
   "metadata": {},
   "outputs": [
    {
     "data": {
      "text/plain": [
       "[('Identity Element', 0.023603978357594858),\n",
       " ('Identity', 0.042649923710523965),\n",
       " ('Coset', 0.04460543155230717),\n",
       " ('Definition', 0.04726221252621686),\n",
       " ('Element', 0.10569732868798065),\n",
       " ('modulo', 0.1700603157922483),\n",
       " ('Identity of Subgroup', 0.21792319760342144),\n",
       " ('Subgroup', 0.27548831158732046),\n",
       " ('Qed', 0.3133276295785712),\n",
       " ('exists', 0.6165876982414822),\n",
       " ('behaviour', 0.665034344509052),\n",
       " ('result', 0.665034344509052)]"
      ]
     },
     "execution_count": 67,
     "metadata": {},
     "output_type": "execute_result"
    }
   ],
   "source": [
    "kw_extractor.extract_keywords(\n",
    "    ' '.join(random_theorem[\"contents\"]) + \n",
    "    ' '.join(random_proof[\"contents\"]))"
   ]
  },
  {
   "cell_type": "markdown",
   "metadata": {},
   "source": [
    "For comparison, these are some of the definitions that were referred to in the theorem statement and proof:"
   ]
  },
  {
   "cell_type": "code",
   "execution_count": 68,
   "metadata": {},
   "outputs": [
    {
     "data": {
      "text/plain": [
       "['Definition:Coset/Right Coset',\n",
       " 'Definition:Identity (Abstract Algebra)/Two-Sided Identity',\n",
       " 'Identity of Subgroup',\n",
       " 'Definition:Identity (Abstract Algebra)/Two-Sided Identity',\n",
       " 'Definition:Coset/Right Coset']"
      ]
     },
     "execution_count": 68,
     "metadata": {},
     "output_type": "execute_result"
    }
   ],
   "source": [
    "random_theorem[\"refs\"] + random_proof[\"refs\"]"
   ]
  },
  {
   "cell_type": "markdown",
   "metadata": {},
   "source": [
    "These are the categories in ProofWiki that the *theorem* belongs to.  "
   ]
  },
  {
   "cell_type": "code",
   "execution_count": 69,
   "metadata": {},
   "outputs": [
    {
     "data": {
      "text/plain": [
       "['Element of Group is in its own Coset']"
      ]
     },
     "execution_count": 69,
     "metadata": {},
     "output_type": "execute_result"
    }
   ],
   "source": [
    "random_theorem[\"categories\"]"
   ]
  },
  {
   "cell_type": "markdown",
   "metadata": {},
   "source": [
    "---"
   ]
  },
  {
   "cell_type": "code",
   "execution_count": 6,
   "metadata": {},
   "outputs": [],
   "source": [
    "'''\n",
    "mathlib_keyword_lookup = {}\n",
    "\n",
    "for i, obj in enumerate(mathlib_keyword_summary):\n",
    "    for k in obj[\"keywords\"]:\n",
    "        try:\n",
    "            mathlib_keyword_lookup[k].append(i)\n",
    "        except:\n",
    "            mathlib_keyword_lookup[k] = [i]\n",
    "        \n",
    "for k in mathlib_keyword_lookup:\n",
    "   mathlib_keyword_lookup[k].sort(key = lambda i: mathlib_keyword_summary[i][\"keywords\"][k]) \n",
    "'''"
   ]
  },
  {
   "cell_type": "code",
   "execution_count": 2,
   "metadata": {},
   "outputs": [],
   "source": [
    "def keywords(stmt:str) -> dict:\n",
    "    return dict(kw_extractor.extract_keywords(stmt))"
   ]
  },
  {
   "cell_type": "code",
   "execution_count": 10,
   "metadata": {},
   "outputs": [],
   "source": [
    "mathlib_keyword_lookup = json.load(open(\"mathlib_keyword_lookup.json\", \"r\"))"
   ]
  },
  {
   "cell_type": "code",
   "execution_count": 19,
   "metadata": {},
   "outputs": [],
   "source": [
    "def fetch_relevant_mathlib_statements(stmt:str):\n",
    "    revelant_mathlib_statements = []\n",
    "    \n",
    "    for kw in keywords(stmt):\n",
    "        try:\n",
    "            for idx in mathlib_keyword_lookup[kw][:3]: # top 3 matches\n",
    "                match_stmt = mathlib_keyword_summary[idx]\n",
    "                if match_stmt not in revelant_mathlib_statements:\n",
    "                    revelant_mathlib_statements.append(match_stmt)\n",
    "        except: continue\n",
    "        \n",
    "    return revelant_mathlib_statements \n",
    "    #return [mathlib_keyword_summary[idx] for kw in keywords(stmt) for idx in mathlib_keyword_lookup[kw][:5]]"
   ]
  },
  {
   "cell_type": "code",
   "execution_count": 21,
   "metadata": {},
   "outputs": [
    {
     "data": {
      "text/plain": [
       "[' A `comm_ring` `K` which is the localization of an integral domain `R` at `R - {0}` is an integral domain.',\n",
       " ' Given an integral domain `A` with field of fractions `K`, and an injective ring hom `g : A →+* L` where `L` is a field, field hom induced from `K` to `L` maps `f x / f y` to `g x / g y` for all `x : A, y ∈ non_zero_divisors A`.',\n",
       " 'In an integral domain, a sum indexed by a nontrivial homomorphism from a finite group is zero.',\n",
       " 'Sum of elements in a `intermediate_field` indexed by a `finset` is in the `intermediate_field`.',\n",
       " 'Sum of a multiset of elements in a `intermediate_field` is in the `intermediate_field`.',\n",
       " 'If the integral extension `R → S` is injective, and `S` is a field, then `R` is also a field.',\n",
       " \"If `S` is a finite `R`-algebra, then `S' = M⁻¹S` is a finite `R' = M⁻¹R`-algebra.\",\n",
       " \"This is a version of **Hall's Marriage Theorem** in terms of a relation between types `α` and `β` such that `α` is finite and the image of each `x : α` is finite (it suffices for `β` to be finite; see `fintype.all_card_le_filter_rel_iff_exists_injective`).  There is a transversal of the relation (an injective function `α → β` whose graph is a subrelation of the relation) iff every subset of `k` terms of `α` is related to at least `k` terms of `β`.  Note: if `[fintype β]`, then there exist instances for `[∀ (a : α), fintype (rel.image r {a})]`.\",\n",
       " '**Alias** of the reverse direction of complete_lattice.well_founded_iff_is_Sup_finite_compact`.',\n",
       " ' In dimension one, `torus_integral` is the same as `circle_integral` (up to the natural equivalence between `ℂ` and `fin 1 → ℂ`).',\n",
       " 'Recurrent formula for `torus_integral`, see also `torus_integral_succ_above`.',\n",
       " 'Recurrent formula for `torus_integral`, see also `torus_integral_succ`.',\n",
       " 'Transfer `is_domain` across an `equiv`',\n",
       " 'Like `finsupp.map_domain_add`, but for the convolutive multiplication we define in this file',\n",
       " 'Like `finsupp.map_domain_zero`, but for the `1` we define in this file']"
      ]
     },
     "execution_count": 21,
     "metadata": {},
     "output_type": "execute_result"
    }
   ],
   "source": [
    "[stmt[\"doc_string\"] for stmt in fetch_relevant_mathlib_statements(\"A finite integral domain is a field.\")]"
   ]
  },
  {
   "cell_type": "code",
   "execution_count": 22,
   "metadata": {},
   "outputs": [
    {
     "data": {
      "text/plain": [
       "{'finite integral domain': 0.0042542192213185686,\n",
       " 'finite integral': 0.02570861714399338,\n",
       " 'integral domain': 0.02570861714399338,\n",
       " 'field': 0.09568045026443411,\n",
       " 'finite': 0.15831692877998726,\n",
       " 'integral': 0.15831692877998726,\n",
       " 'domain': 0.15831692877998726}"
      ]
     },
     "execution_count": 22,
     "metadata": {},
     "output_type": "execute_result"
    }
   ],
   "source": [
    "keywords(\"A finite integral domain is a field.\")"
   ]
  },
  {
   "cell_type": "code",
   "execution_count": null,
   "metadata": {},
   "outputs": [],
   "source": []
  }
 ],
 "metadata": {
  "kernelspec": {
   "display_name": "Python 3.10.5 64-bit",
   "language": "python",
   "name": "python3"
  },
  "language_info": {
   "codemirror_mode": {
    "name": "ipython",
    "version": 3
   },
   "file_extension": ".py",
   "mimetype": "text/x-python",
   "name": "python",
   "nbconvert_exporter": "python",
   "pygments_lexer": "ipython3",
   "version": "3.10.5"
  },
  "orig_nbformat": 4,
  "vscode": {
   "interpreter": {
    "hash": "e7370f93d1d0cde622a1f8e1c04877d8463912d04d973331ad4851f04de6915a"
   }
  }
 },
 "nbformat": 4,
 "nbformat_minor": 2
}
